{
 "cells": [
  {
   "cell_type": "code",
   "execution_count": 2,
   "metadata": {},
   "outputs": [],
   "source": [
    "import math\n",
    "import numpy as np\n",
    "import pandas as pd\n",
    "import seaborn as sns\n",
    "import matplotlib.pyplot as plt\n",
    "from sklearn.preprocessing import scale\n",
    "from sklearn.preprocessing import normalize\n",
    "%matplotlib inline"
   ]
  },
  {
   "cell_type": "markdown",
   "metadata": {},
   "source": [
    "# Data Visulization"
   ]
  },
  {
   "cell_type": "code",
   "execution_count": 3,
   "metadata": {
    "collapsed": true
   },
   "outputs": [],
   "source": [
    "def create_dataframe(path):\n",
    "    feature_names = []\n",
    "    for unit_label in [\"T\", \"RA\", \"LA\", \"RL\", \"LL\"]:\n",
    "        for sensor  in [\"acc\",\"gyro\",\"mag\"]:\n",
    "            for position in ['X','Y','Z']:\n",
    "                feature_names.append(unit_label + \"_\" + position + sensor)\n",
    "\n",
    "    return pd.read_csv(path, names = feature_names)"
   ]
  },
  {
   "cell_type": "code",
   "execution_count": 4,
   "metadata": {
    "collapsed": true
   },
   "outputs": [],
   "source": [
    "sit_df = create_dataframe('../data/a01/p1/s01.txt')\n",
    "walk_df = create_dataframe('../data/a09/p1/s01.txt')\n",
    "jump_df = create_dataframe('../data/a18/p1/s01.txt')"
   ]
  },
  {
   "cell_type": "code",
   "execution_count": 5,
   "metadata": {},
   "outputs": [
    {
     "data": {
      "text/html": [
       "<div>\n",
       "<style>\n",
       "    .dataframe thead tr:only-child th {\n",
       "        text-align: right;\n",
       "    }\n",
       "\n",
       "    .dataframe thead th {\n",
       "        text-align: left;\n",
       "    }\n",
       "\n",
       "    .dataframe tbody tr th {\n",
       "        vertical-align: top;\n",
       "    }\n",
       "</style>\n",
       "<table border=\"1\" class=\"dataframe\">\n",
       "  <thead>\n",
       "    <tr style=\"text-align: right;\">\n",
       "      <th></th>\n",
       "      <th>T_Xacc</th>\n",
       "      <th>T_Yacc</th>\n",
       "      <th>T_Zacc</th>\n",
       "      <th>T_Xgyro</th>\n",
       "      <th>T_Ygyro</th>\n",
       "      <th>T_Zgyro</th>\n",
       "      <th>T_Xmag</th>\n",
       "      <th>T_Ymag</th>\n",
       "      <th>T_Zmag</th>\n",
       "      <th>RA_Xacc</th>\n",
       "      <th>...</th>\n",
       "      <th>RL_Zmag</th>\n",
       "      <th>LL_Xacc</th>\n",
       "      <th>LL_Yacc</th>\n",
       "      <th>LL_Zacc</th>\n",
       "      <th>LL_Xgyro</th>\n",
       "      <th>LL_Ygyro</th>\n",
       "      <th>LL_Zgyro</th>\n",
       "      <th>LL_Xmag</th>\n",
       "      <th>LL_Ymag</th>\n",
       "      <th>LL_Zmag</th>\n",
       "    </tr>\n",
       "  </thead>\n",
       "  <tbody>\n",
       "    <tr>\n",
       "      <th>0</th>\n",
       "      <td>8.1305</td>\n",
       "      <td>1.0349</td>\n",
       "      <td>5.4217</td>\n",
       "      <td>-0.009461</td>\n",
       "      <td>0.001915</td>\n",
       "      <td>-0.003424</td>\n",
       "      <td>-0.78712</td>\n",
       "      <td>-0.069654</td>\n",
       "      <td>0.15730</td>\n",
       "      <td>0.70097</td>\n",
       "      <td>...</td>\n",
       "      <td>-0.036453</td>\n",
       "      <td>-2.8071</td>\n",
       "      <td>-9.0812</td>\n",
       "      <td>2.6220</td>\n",
       "      <td>-0.000232</td>\n",
       "      <td>-0.012092</td>\n",
       "      <td>-0.004457</td>\n",
       "      <td>0.74017</td>\n",
       "      <td>0.30053</td>\n",
       "      <td>-0.057730</td>\n",
       "    </tr>\n",
       "    <tr>\n",
       "      <th>1</th>\n",
       "      <td>8.1305</td>\n",
       "      <td>1.0202</td>\n",
       "      <td>5.3843</td>\n",
       "      <td>-0.009368</td>\n",
       "      <td>0.023485</td>\n",
       "      <td>0.001953</td>\n",
       "      <td>-0.78717</td>\n",
       "      <td>-0.068275</td>\n",
       "      <td>0.15890</td>\n",
       "      <td>0.71829</td>\n",
       "      <td>...</td>\n",
       "      <td>-0.034005</td>\n",
       "      <td>-2.8146</td>\n",
       "      <td>-9.0737</td>\n",
       "      <td>2.6218</td>\n",
       "      <td>-0.014784</td>\n",
       "      <td>-0.016477</td>\n",
       "      <td>0.002789</td>\n",
       "      <td>0.73937</td>\n",
       "      <td>0.30183</td>\n",
       "      <td>-0.057514</td>\n",
       "    </tr>\n",
       "    <tr>\n",
       "      <th>2</th>\n",
       "      <td>8.1604</td>\n",
       "      <td>1.0201</td>\n",
       "      <td>5.3622</td>\n",
       "      <td>0.015046</td>\n",
       "      <td>0.014330</td>\n",
       "      <td>0.000204</td>\n",
       "      <td>-0.78664</td>\n",
       "      <td>-0.068277</td>\n",
       "      <td>0.15879</td>\n",
       "      <td>0.69849</td>\n",
       "      <td>...</td>\n",
       "      <td>-0.036489</td>\n",
       "      <td>-2.8221</td>\n",
       "      <td>-9.0886</td>\n",
       "      <td>2.6366</td>\n",
       "      <td>-0.012770</td>\n",
       "      <td>0.005717</td>\n",
       "      <td>-0.007918</td>\n",
       "      <td>0.73955</td>\n",
       "      <td>0.30052</td>\n",
       "      <td>-0.057219</td>\n",
       "    </tr>\n",
       "    <tr>\n",
       "      <th>3</th>\n",
       "      <td>8.1603</td>\n",
       "      <td>1.0052</td>\n",
       "      <td>5.3770</td>\n",
       "      <td>0.006892</td>\n",
       "      <td>0.018045</td>\n",
       "      <td>0.005649</td>\n",
       "      <td>-0.78529</td>\n",
       "      <td>-0.069849</td>\n",
       "      <td>0.15912</td>\n",
       "      <td>0.72799</td>\n",
       "      <td>...</td>\n",
       "      <td>-0.036151</td>\n",
       "      <td>-2.8071</td>\n",
       "      <td>-9.0811</td>\n",
       "      <td>2.6070</td>\n",
       "      <td>-0.005725</td>\n",
       "      <td>0.009620</td>\n",
       "      <td>0.006555</td>\n",
       "      <td>0.74029</td>\n",
       "      <td>0.30184</td>\n",
       "      <td>-0.057750</td>\n",
       "    </tr>\n",
       "    <tr>\n",
       "      <th>4</th>\n",
       "      <td>8.1605</td>\n",
       "      <td>1.0275</td>\n",
       "      <td>5.3473</td>\n",
       "      <td>0.008811</td>\n",
       "      <td>0.030433</td>\n",
       "      <td>-0.005346</td>\n",
       "      <td>-0.78742</td>\n",
       "      <td>-0.068796</td>\n",
       "      <td>0.15916</td>\n",
       "      <td>0.71572</td>\n",
       "      <td>...</td>\n",
       "      <td>-0.033807</td>\n",
       "      <td>-2.8146</td>\n",
       "      <td>-9.0737</td>\n",
       "      <td>2.6218</td>\n",
       "      <td>-0.003929</td>\n",
       "      <td>-0.008371</td>\n",
       "      <td>0.002816</td>\n",
       "      <td>0.73845</td>\n",
       "      <td>0.30090</td>\n",
       "      <td>-0.057527</td>\n",
       "    </tr>\n",
       "  </tbody>\n",
       "</table>\n",
       "<p>5 rows × 45 columns</p>\n",
       "</div>"
      ],
      "text/plain": [
       "   T_Xacc  T_Yacc  T_Zacc   T_Xgyro   T_Ygyro   T_Zgyro   T_Xmag    T_Ymag  \\\n",
       "0  8.1305  1.0349  5.4217 -0.009461  0.001915 -0.003424 -0.78712 -0.069654   \n",
       "1  8.1305  1.0202  5.3843 -0.009368  0.023485  0.001953 -0.78717 -0.068275   \n",
       "2  8.1604  1.0201  5.3622  0.015046  0.014330  0.000204 -0.78664 -0.068277   \n",
       "3  8.1603  1.0052  5.3770  0.006892  0.018045  0.005649 -0.78529 -0.069849   \n",
       "4  8.1605  1.0275  5.3473  0.008811  0.030433 -0.005346 -0.78742 -0.068796   \n",
       "\n",
       "    T_Zmag  RA_Xacc    ...      RL_Zmag  LL_Xacc  LL_Yacc  LL_Zacc  LL_Xgyro  \\\n",
       "0  0.15730  0.70097    ...    -0.036453  -2.8071  -9.0812   2.6220 -0.000232   \n",
       "1  0.15890  0.71829    ...    -0.034005  -2.8146  -9.0737   2.6218 -0.014784   \n",
       "2  0.15879  0.69849    ...    -0.036489  -2.8221  -9.0886   2.6366 -0.012770   \n",
       "3  0.15912  0.72799    ...    -0.036151  -2.8071  -9.0811   2.6070 -0.005725   \n",
       "4  0.15916  0.71572    ...    -0.033807  -2.8146  -9.0737   2.6218 -0.003929   \n",
       "\n",
       "   LL_Ygyro  LL_Zgyro  LL_Xmag  LL_Ymag   LL_Zmag  \n",
       "0 -0.012092 -0.004457  0.74017  0.30053 -0.057730  \n",
       "1 -0.016477  0.002789  0.73937  0.30183 -0.057514  \n",
       "2  0.005717 -0.007918  0.73955  0.30052 -0.057219  \n",
       "3  0.009620  0.006555  0.74029  0.30184 -0.057750  \n",
       "4 -0.008371  0.002816  0.73845  0.30090 -0.057527  \n",
       "\n",
       "[5 rows x 45 columns]"
      ]
     },
     "execution_count": 5,
     "metadata": {},
     "output_type": "execute_result"
    }
   ],
   "source": [
    "sit_df.head()"
   ]
  },
  {
   "cell_type": "markdown",
   "metadata": {},
   "source": [
    "### Visualize accelerometer readings for sitting"
   ]
  },
  {
   "cell_type": "code",
   "execution_count": 6,
   "metadata": {},
   "outputs": [
    {
     "data": {
      "image/png": "[encoded data removed]",
      "text/plain": [
       "<matplotlib.figure.Figure at 0x110e89c50>"
      ]
     },
     "metadata": {},
     "output_type": "display_data"
    }
   ],
   "source": [
    "ax = sit_df[[\"LL_Xacc\", \"LL_Yacc\", \"LL_Zacc\"]].plot(title = \"Sitting (X,Y,Z) Left Leg Acceleration vs. Time\", figsize=(16,5));\n",
    "ax.set_xlabel(\"Time (seconds)\")\n",
    "ax.set_ylabel(\"Acceleration\");\n",
    "plt.show()"
   ]
  },
  {
   "cell_type": "markdown",
   "metadata": {},
   "source": [
    "### Visualize accelerometer readings for jumping"
   ]
  },
  {
   "cell_type": "code",
   "execution_count": 7,
   "metadata": {},
   "outputs": [
    {
     "data": {
      "image/png": "[encoded data removed]",
      "text/plain": [
       "<matplotlib.figure.Figure at 0x110e66a58>"
      ]
     },
     "metadata": {},
     "output_type": "display_data"
    }
   ],
   "source": [
    "ax = jump_df[[\"T_Xacc\", \"T_Yacc\", \"T_Zacc\"]].plot(title = \"Jumping (X,Y,Z) Torso Acceleration vs. Time\", figsize=(16,5));\n",
    "ax.set_xlabel(\"Time (seconds)\")\n",
    "ax.set_ylabel(\"Acceleration\");\n",
    "plt.show()"
   ]
  },
  {
   "cell_type": "markdown",
   "metadata": {},
   "source": [
    "### Visualize accelerometer readings for walking"
   ]
  },
  {
   "cell_type": "code",
   "execution_count": 8,
   "metadata": {},
   "outputs": [
    {
     "data": {
      "image/png": "[encoded data removed]",
      "text/plain": [
       "<matplotlib.figure.Figure at 0x110e66940>"
      ]
     },
     "metadata": {},
     "output_type": "display_data"
    }
   ],
   "source": [
    "ax = walk_df[[\"LL_Xacc\", \"LL_Yacc\", \"LL_Zacc\"]].plot(title = \"Walking (X,Y,Z) Left Leg Acceleration vs. Time\", figsize=(16,5));\n",
    "ax.set_xlabel(\"Time (seconds)\")\n",
    "ax.set_ylabel(\"Acceleration\");\n",
    "plt.show()"
   ]
  },
  {
   "cell_type": "markdown",
   "metadata": {},
   "source": [
    "# Feature Extraction"
   ]
  },
  {
   "cell_type": "code",
   "execution_count": 9,
   "metadata": {
    "collapsed": true
   },
   "outputs": [],
   "source": [
    "def generate_file_names():\n",
    "    file_list = []\n",
    "    for activities in range(19):\n",
    "        for person in range(8):\n",
    "            for segments in range(60):\n",
    "                file_list.append('../data/' +\n",
    "                                 'a' + str(activities + 1).zfill(2) + '/'\n",
    "                                 'p' + str(person + 1) + '/'\n",
    "                                 's' + str(segments + 1).zfill(2) + '.txt'\n",
    "                                )\n",
    "\n",
    "    return file_list"
   ]
  },
  {
   "cell_type": "code",
   "execution_count": 10,
   "metadata": {
    "collapsed": true
   },
   "outputs": [],
   "source": [
    "def extract_features(x):\n",
    "    numrows = len(x)\n",
    "    mean = np.mean(x, axis = 0)\n",
    "    std = np.std(x, axis = 0)\n",
    "    var = np.var(x, axis = 0)\n",
    "    median = np.median(x, axis = 0)\n",
    "    xmax = np.amax(x, axis = 0)\n",
    "    xmin = np.amin(x, axis = 0)\n",
    "    p2p = xmax - xmin\n",
    "    amp = xmax - mean\n",
    "    s2e = x[numrows-1,:] - x[0,:]\n",
    "    features = np.concatenate([mean, std, var, median, xmax, xmin, p2p, amp, s2e])\n",
    "    return features"
   ]
  },
  {
   "cell_type": "code",
   "execution_count": 11,
   "metadata": {
    "collapsed": true
   },
   "outputs": [],
   "source": [
    "def data_generate():\n",
    "    filenames = generate_file_names()\n",
    "    feature_cols = []\n",
    "    for unit_label in ['T', 'RA', 'LA', 'RL', 'LL']:\n",
    "        for feature in ['mean', 'std', 'var', 'median', 'xmax', 'xmin', 'p2p', 'amp', 's2e']:\n",
    "            for sensor  in ['acc', 'gyro', 'mag']:\n",
    "                for position in ['X', 'Y', 'Z']:\n",
    "                    feature_cols.append(feature + '_' + unit_label + '_' + position + sensor)\n",
    "    activity_data = pd.DataFrame(columns=feature_cols)\n",
    "    data = []\n",
    "    activity = []\n",
    "    person = []\n",
    "    for i in range(len(filenames)):\n",
    "        activity.append('a' + str(i // 480 + 1).zfill(2))\n",
    "        person.append('p' + str((i // 60) % 8 + 1))\n",
    "        raw_data = np.genfromtxt(filenames[i], delimiter = ',', skip_header = 0)\n",
    "        row = extract_features(raw_data)\n",
    "        data.append(row)\n",
    "    #data = scale(data, axis = 0)\n",
    "    activity_data = pd.DataFrame(data, columns = feature_cols)\n",
    "    activity_data['person'] = person\n",
    "    activity_data['activity'] = activity\n",
    "    return activity_data"
   ]
  },
  {
   "cell_type": "markdown",
   "metadata": {},
   "source": [
    "# Preprocess Data"
   ]
  },
  {
   "cell_type": "code",
   "execution_count": 12,
   "metadata": {
    "collapsed": true
   },
   "outputs": [],
   "source": [
    "def preprocess_approach_one():\n",
    "    df = pd.read_csv('data/data.csv')\n",
    "    train_df = df.loc[df['person'] != 'p8']\n",
    "    test_df = df.loc[df['person'] == 'p8']\n",
    "\n",
    "    train_x = np.vstack((train_df.iloc[:, 0:81].values, \n",
    "                         train_df.iloc[:, 81:162].values, \n",
    "                         train_df.iloc[:, 162:243].values, \n",
    "                         train_df.iloc[:, 243:324].values, \n",
    "                         train_df.iloc[:, 324:405].values))\n",
    "    \n",
    "    train_y = np.vstack((train_df['activity'].str.get_dummies().values,\n",
    "                         train_df['activity'].str.get_dummies().values,\n",
    "                         train_df['activity'].str.get_dummies().values,\n",
    "                         train_df['activity'].str.get_dummies().values,\n",
    "                         train_df['activity'].str.get_dummies().values))\n",
    "    \n",
    "    test_t_x = test_df.iloc[:, 0:81].values\n",
    "    test_ra_x = test_df.iloc[:, 81:162].values\n",
    "    test_la_x = test_df.iloc[:, 162:243].values\n",
    "    test_rl_x = test_df.iloc[:, 243:324].values\n",
    "    test_ll_x = test_df.iloc[:, 324:405].values\n",
    "    \n",
    "    test_y = test_df['activity'].str.get_dummies().values\n",
    "    \n",
    "    # Normalize\n",
    "    train_x = normalize(train_x, norm='l2')\n",
    "    \n",
    "    test_t_x = normalize(test_t_x, norm='l2')\n",
    "    test_ra_x = normalize(test_ra_x, norm='l2')\n",
    "    test_la_x = normalize(test_la_x, norm='l2')\n",
    "    test_rl_x = normalize(test_rl_x, norm='l2')\n",
    "    test_ll_x = normalize(test_ll_x, norm='l2')\n",
    "    \n",
    "    # Expand dimensions\n",
    "    train_x = np.expand_dims(train_x, axis = 1)\n",
    "    \n",
    "    test_t_x = np.expand_dims(test_t_x, axis = 1)\n",
    "    test_ra_x = np.expand_dims(test_ra_x, axis = 1)\n",
    "    test_la_x = np.expand_dims(test_la_x, axis = 1)\n",
    "    test_rl_x = np.expand_dims(test_rl_x, axis = 1)\n",
    "    test_ll_x = np.expand_dims(test_ll_x, axis = 1)\n",
    "    \n",
    "    return (train_x, test_t_x, test_ra_x, test_la_x, test_rl_x, test_ll_x, train_y, test_y)"
   ]
  },
  {
   "cell_type": "code",
   "execution_count": 13,
   "metadata": {
    "collapsed": true
   },
   "outputs": [],
   "source": [
    "(train_x_one, test_t_x_one, test_ra_x_one, test_la_x_one, test_rl_x_one, test_ll_x_one, train_y_one, test_y_one) = preprocess_approach_one()"
   ]
  },
  {
   "cell_type": "code",
   "execution_count": 14,
   "metadata": {
    "collapsed": true
   },
   "outputs": [],
   "source": [
    "def preprocess_approach_two():\n",
    "    df = pd.read_csv('data/data.csv')\n",
    "    train_df = df.loc[df['person'] != 'p8']\n",
    "    test_df = df.loc[df['person'] == 'p8']\n",
    "    \n",
    "    # Train x values\n",
    "    train_t_x = train_df.iloc[:, 0:81].values\n",
    "    train_ra_x = train_df.iloc[:, 81:162].values\n",
    "    train_la_x = train_df.iloc[:, 162:243].values\n",
    "    train_rl_x = train_df.iloc[:, 243:324].values\n",
    "    train_ll_x = train_df.iloc[:, 324:405].values\n",
    "    \n",
    "    # Test x values\n",
    "    test_t_x = test_df.iloc[:, 0:81].values\n",
    "    test_ra_x = test_df.iloc[:, 81:162].values\n",
    "    test_la_x = test_df.iloc[:, 162:243].values\n",
    "    test_rl_x = test_df.iloc[:, 243:324].values\n",
    "    test_ll_x = test_df.iloc[:, 324:405].values\n",
    "    \n",
    "     # Normalize\n",
    "    train_t_x = normalize(train_t_x, norm='l2')\n",
    "    train_ra_x = normalize(train_ra_x, norm='l2')\n",
    "    train_la_x = normalize(train_la_x, norm='l2')\n",
    "    train_rl_x = normalize(train_rl_x, norm='l2')\n",
    "    train_ll_x = normalize(train_ll_x, norm='l2')\n",
    "    \n",
    "    test_t_x = normalize(test_t_x, norm='l2')\n",
    "    test_ra_x = normalize(test_ra_x, norm='l2')\n",
    "    test_la_x = normalize(test_la_x, norm='l2')\n",
    "    test_rl_x = normalize(test_rl_x, norm='l2')\n",
    "    test_ll_x = normalize(test_ll_x, norm='l2')\n",
    "    \n",
    "    # Expand dimensions\n",
    "    train_t_x = np.expand_dims(train_t_x, axis = 1)\n",
    "    train_ra_x = np.expand_dims(train_ra_x, axis = 1)\n",
    "    train_la_x = np.expand_dims(train_la_x, axis = 1)\n",
    "    train_rl_x = np.expand_dims(train_rl_x, axis = 1)\n",
    "    train_ll_x = np.expand_dims(train_ll_x, axis = 1)\n",
    "    \n",
    "    test_t_x = np.expand_dims(test_t_x, axis = 1)\n",
    "    test_ra_x = np.expand_dims(test_ra_x, axis = 1)\n",
    "    test_la_x = np.expand_dims(test_la_x, axis = 1)\n",
    "    test_rl_x = np.expand_dims(test_rl_x, axis = 1)\n",
    "    test_ll_x = np.expand_dims(test_ll_x, axis = 1)\n",
    "    \n",
    "    # Y labels for train\n",
    "    train_y = train_df['activity'].str.get_dummies().values\n",
    "    \n",
    "    # Y labels for test\n",
    "    test_y = test_df['activity'].str.get_dummies().values\n",
    "    \n",
    "    return (train_t_x, train_ra_x, train_la_x, train_rl_x, train_ll_x, test_t_x, test_ra_x, test_la_x, test_rl_x, test_ll_x, train_y, test_y)\n",
    "    "
   ]
  },
  {
   "cell_type": "code",
   "execution_count": 15,
   "metadata": {
    "collapsed": true
   },
   "outputs": [],
   "source": [
    "(train_t_x, train_ra_x, train_la_x, train_rl_x, train_ll_x, test_t_x, test_ra_x, test_la_x, test_rl_x, test_ll_x, train_y, test_y) = preprocess_approach_two()"
   ]
  },
  {
   "cell_type": "code",
   "execution_count": 16,
   "metadata": {
    "collapsed": true
   },
   "outputs": [],
   "source": [
    "def preprocess_regular():\n",
    "    data = pd.read_csv('data/data.csv')\n",
    "    \n",
    "    train = data.loc[data['person'] != 'p8']\n",
    "    test = data.loc[data['person'] == 'p8']\n",
    "    train = train.drop(['person'], axis = 1)\n",
    "    test = test.drop(['person'], axis = 1)\n",
    "    train_x = train.iloc[:, :-1].values\n",
    "    train_y = train.iloc[:, -1].values\n",
    "    test_x = test.iloc[:, :-1].values\n",
    "    test_y = test.iloc[:, -1].values\n",
    "    \n",
    "    train_y = train['activity'].str.get_dummies().values\n",
    "    test_y = test['activity'].str.get_dummies().values\n",
    "    \n",
    "    train_x = np.expand_dims(train_x, axis = 1)\n",
    "    test_x = np.expand_dims(test_x, axis = 1)\n",
    "    \n",
    "    return(train_x, train_y, test_x, test_y)"
   ]
  },
  {
   "cell_type": "code",
   "execution_count": 17,
   "metadata": {
    "collapsed": true
   },
   "outputs": [],
   "source": [
    "(train_x_n, train_y_n, test_x_n, test_y_n) = preprocess_regular()"
   ]
  },
  {
   "cell_type": "markdown",
   "metadata": {},
   "source": [
    "# CNN Model"
   ]
  },
  {
   "cell_type": "code",
   "execution_count": 19,
   "metadata": {},
   "outputs": [
    {
     "name": "stderr",
     "output_type": "stream",
     "text": [
      "Using TensorFlow backend.\n"
     ]
    }
   ],
   "source": [
    "from keras.models import Sequential\n",
    "from keras.layers import Conv1D\n",
    "from keras.layers import MaxPool1D\n",
    "from keras.layers import BatchNormalization\n",
    "from keras.layers import Dropout\n",
    "from keras.layers import Dense\n",
    "from keras.layers import Flatten\n",
    "from keras.layers import Activation\n",
    "from keras.layers import BatchNormalization\n",
    "from keras.layers import LSTM\n",
    "from keras.callbacks import LearningRateScheduler"
   ]
  },
  {
   "cell_type": "code",
   "execution_count": 20,
   "metadata": {
    "collapsed": true
   },
   "outputs": [],
   "source": [
    "def schedule_rate(epoch):\n",
    "    if epoch > 75:\n",
    "        return 0.0005\n",
    "    elif epoch > 100:\n",
    "        return 0.0003       \n",
    "    return 0.001"
   ]
  },
  {
   "cell_type": "code",
   "execution_count": 21,
   "metadata": {
    "collapsed": true
   },
   "outputs": [],
   "source": [
    "def deep_network(input_shape, output_shape):\n",
    "    model = Sequential()\n",
    "    \n",
    "    model.add(Conv1D(filters = 32, kernel_size = 3, input_shape = input_shape, data_format='channels_first'))\n",
    "    model.add(Activation('relu'))\n",
    "    model.add(BatchNormalization())\n",
    "    model.add(MaxPool1D(pool_size = 2))\n",
    "    model.add(Dropout(0.2))\n",
    "\n",
    "    model.add(Conv1D(filters = 64, kernel_size = 3))\n",
    "    model.add(Activation('relu'))\n",
    "    model.add(BatchNormalization())\n",
    "    model.add(MaxPool1D(pool_size = 2))\n",
    "    model.add(Dropout(0.3))\n",
    "    \n",
    "    model.add(LSTM(128, return_sequences=True, input_shape = input_shape))\n",
    "    model.add(LSTM(128))\n",
    "    \n",
    "    model.add(Dense(128, activation='relu'))\n",
    "    model.add(Dropout(0.4))\n",
    "    model.add(Dense(256, activation='relu'))\n",
    "    model.add(Dropout(0.4))\n",
    "    model.add(Dense(512, activation='relu'))\n",
    "    model.add(Dropout(0.4))\n",
    "    model.add(Dense(output_shape, activation = 'softmax'))\n",
    "    \n",
    "    model.compile(optimizer = 'adam', loss = 'categorical_crossentropy', metrics = ['accuracy'])\n",
    "              \n",
    "    return model"
   ]
  },
  {
   "cell_type": "markdown",
   "metadata": {},
   "source": [
    "### Approach 1"
   ]
  },
  {
   "cell_type": "code",
   "execution_count": 419,
   "metadata": {
    "collapsed": true
   },
   "outputs": [],
   "source": [
    "model_one = deep_network((1, 81), 19)"
   ]
  },
  {
   "cell_type": "code",
   "execution_count": 420,
   "metadata": {},
   "outputs": [
    {
     "name": "stdout",
     "output_type": "stream",
     "text": [
      "Epoch 1/10\n",
      "39900/39900 [==============================] - 56s 1ms/step - loss: 1.2696 - acc: 0.5460\n",
      "Epoch 2/10\n",
      "39900/39900 [==============================] - 51s 1ms/step - loss: 0.7096 - acc: 0.7460\n",
      "Epoch 3/10\n",
      "39900/39900 [==============================] - 51s 1ms/step - loss: 0.5619 - acc: 0.8074\n",
      "Epoch 4/10\n",
      "39900/39900 [==============================] - 51s 1ms/step - loss: 0.4769 - acc: 0.8415\n",
      "Epoch 5/10\n",
      "39900/39900 [==============================] - 51s 1ms/step - loss: 0.4160 - acc: 0.8658\n",
      "Epoch 6/10\n",
      "39900/39900 [==============================] - 51s 1ms/step - loss: 0.3685 - acc: 0.8841\n",
      "Epoch 7/10\n",
      "39900/39900 [==============================] - 51s 1ms/step - loss: 0.3434 - acc: 0.8918\n",
      "Epoch 8/10\n",
      "39900/39900 [==============================] - 52s 1ms/step - loss: 0.3191 - acc: 0.8997\n",
      "Epoch 9/10\n",
      "39900/39900 [==============================] - 51s 1ms/step - loss: 0.2982 - acc: 0.9089\n",
      "Epoch 10/10\n",
      "39900/39900 [==============================] - 52s 1ms/step - loss: 0.2846 - acc: 0.9134\n"
     ]
    }
   ],
   "source": [
    "history = model_one.fit(x = train_x_one, y = train_y_one, epochs = 10)"
   ]
  },
  {
   "cell_type": "code",
   "execution_count": 421,
   "metadata": {},
   "outputs": [
    {
     "name": "stdout",
     "output_type": "stream",
     "text": [
      "1140/1140 [==============================] - 2s 2ms/step\n"
     ]
    },
    {
     "data": {
      "text/plain": [
       "[0.833223910927184, 0.7894736842105263]"
      ]
     },
     "execution_count": 421,
     "metadata": {},
     "output_type": "execute_result"
    }
   ],
   "source": [
    "model_one.evaluate(test_t_x_one, test_y)"
   ]
  },
  {
   "cell_type": "code",
   "execution_count": 422,
   "metadata": {},
   "outputs": [
    {
     "name": "stdout",
     "output_type": "stream",
     "text": [
      "1140/1140 [==============================] - 1s 556us/step\n"
     ]
    },
    {
     "data": {
      "text/plain": [
       "[1.3460228792232416, 0.7394736842105263]"
      ]
     },
     "execution_count": 422,
     "metadata": {},
     "output_type": "execute_result"
    }
   ],
   "source": [
    "model_one.evaluate(test_ra_x_one, test_y)"
   ]
  },
  {
   "cell_type": "code",
   "execution_count": 423,
   "metadata": {},
   "outputs": [
    {
     "name": "stdout",
     "output_type": "stream",
     "text": [
      "1140/1140 [==============================] - 1s 556us/step\n"
     ]
    },
    {
     "data": {
      "text/plain": [
       "[0.7601832686122327, 0.8096491232252958]"
      ]
     },
     "execution_count": 423,
     "metadata": {},
     "output_type": "execute_result"
    }
   ],
   "source": [
    "model_one.evaluate(test_la_x_one, test_y)"
   ]
  },
  {
   "cell_type": "code",
   "execution_count": 424,
   "metadata": {},
   "outputs": [
    {
     "name": "stdout",
     "output_type": "stream",
     "text": [
      "1140/1140 [==============================] - 1s 780us/step\n"
     ]
    },
    {
     "data": {
      "text/plain": [
       "[0.7378100087759988, 0.7763157896828233]"
      ]
     },
     "execution_count": 424,
     "metadata": {},
     "output_type": "execute_result"
    }
   ],
   "source": [
    "model_one.evaluate(test_rl_x_one, test_y)"
   ]
  },
  {
   "cell_type": "code",
   "execution_count": 425,
   "metadata": {},
   "outputs": [
    {
     "name": "stdout",
     "output_type": "stream",
     "text": [
      "1140/1140 [==============================] - 1s 557us/step\n"
     ]
    },
    {
     "data": {
      "text/plain": [
       "[2.11870933131952, 0.5570175438596491]"
      ]
     },
     "execution_count": 425,
     "metadata": {},
     "output_type": "execute_result"
    }
   ],
   "source": [
    "model_one.evaluate(test_ll_x_one, test_y)"
   ]
  },
  {
   "cell_type": "markdown",
   "metadata": {},
   "source": [
    "### Approach 2"
   ]
  },
  {
   "cell_type": "code",
   "execution_count": 426,
   "metadata": {
    "collapsed": true
   },
   "outputs": [],
   "source": [
    "model_t_two = deep_network((1, 81), 19)\n",
    "model_ra_two = deep_network((1, 81), 19)\n",
    "model_la_two = deep_network((1, 81), 19)\n",
    "model_rl_two = deep_network((1, 81), 19)\n",
    "model_ll_two = deep_network((1, 81), 19)"
   ]
  },
  {
   "cell_type": "code",
   "execution_count": 427,
   "metadata": {},
   "outputs": [
    {
     "name": "stdout",
     "output_type": "stream",
     "text": [
      "Epoch 1/100\n",
      "7980/7980 [==============================] - 17s 2ms/step - loss: 1.1615 - acc: 0.5754\n",
      "Epoch 2/100\n",
      "7980/7980 [==============================] - 10s 1ms/step - loss: 0.4111 - acc: 0.8558\n",
      "Epoch 3/100\n",
      "7980/7980 [==============================] - 11s 1ms/step - loss: 0.2426 - acc: 0.9204\n",
      "Epoch 4/100\n",
      "7980/7980 [==============================] - 10s 1ms/step - loss: 0.2287 - acc: 0.9338\n",
      "Epoch 5/100\n",
      "7980/7980 [==============================] - 10s 1ms/step - loss: 0.1495 - acc: 0.9535\n",
      "Epoch 6/100\n",
      "7980/7980 [==============================] - 10s 1ms/step - loss: 0.1639 - acc: 0.9536\n",
      "Epoch 7/100\n",
      "7980/7980 [==============================] - 10s 1ms/step - loss: 0.1125 - acc: 0.9682\n",
      "Epoch 8/100\n",
      "7980/7980 [==============================] - 10s 1ms/step - loss: 0.1410 - acc: 0.9589\n",
      "Epoch 9/100\n",
      "7980/7980 [==============================] - 11s 1ms/step - loss: 0.1278 - acc: 0.9633\n",
      "Epoch 10/100\n",
      "7980/7980 [==============================] - 10s 1ms/step - loss: 0.1071 - acc: 0.9690\n",
      "Epoch 11/100\n",
      "7980/7980 [==============================] - 10s 1ms/step - loss: 0.0817 - acc: 0.9768\n",
      "Epoch 12/100\n",
      "7980/7980 [==============================] - 10s 1ms/step - loss: 0.0962 - acc: 0.9731\n",
      "Epoch 13/100\n",
      "7980/7980 [==============================] - 10s 1ms/step - loss: 0.0997 - acc: 0.9707\n",
      "Epoch 14/100\n",
      "7980/7980 [==============================] - 10s 1ms/step - loss: 0.0806 - acc: 0.9776\n",
      "Epoch 15/100\n",
      "7980/7980 [==============================] - 10s 1ms/step - loss: 0.0895 - acc: 0.9767\n",
      "Epoch 16/100\n",
      "7980/7980 [==============================] - 11s 1ms/step - loss: 0.0858 - acc: 0.9772\n",
      "Epoch 17/100\n",
      "7980/7980 [==============================] - 11s 1ms/step - loss: 0.0863 - acc: 0.9763\n",
      "Epoch 18/100\n",
      "7980/7980 [==============================] - 11s 1ms/step - loss: 0.0689 - acc: 0.9817\n",
      "Epoch 19/100\n",
      "7980/7980 [==============================] - 10s 1ms/step - loss: 0.0679 - acc: 0.9802\n",
      "Epoch 20/100\n",
      "7980/7980 [==============================] - 10s 1ms/step - loss: 0.0778 - acc: 0.9821\n",
      "Epoch 21/100\n",
      "7980/7980 [==============================] - 10s 1ms/step - loss: 0.0694 - acc: 0.9811\n",
      "Epoch 22/100\n",
      "7980/7980 [==============================] - 11s 1ms/step - loss: 0.0606 - acc: 0.9827\n",
      "Epoch 23/100\n",
      "7980/7980 [==============================] - 11s 1ms/step - loss: 0.0486 - acc: 0.9843\n",
      "Epoch 24/100\n",
      "7980/7980 [==============================] - 10s 1ms/step - loss: 0.0550 - acc: 0.9846\n",
      "Epoch 25/100\n",
      "7980/7980 [==============================] - 10s 1ms/step - loss: 0.0746 - acc: 0.9818\n",
      "Epoch 26/100\n",
      "7980/7980 [==============================] - 10s 1ms/step - loss: 0.0688 - acc: 0.9831\n",
      "Epoch 27/100\n",
      "7980/7980 [==============================] - 10s 1ms/step - loss: 0.0812 - acc: 0.9808\n",
      "Epoch 28/100\n",
      "7980/7980 [==============================] - 10s 1ms/step - loss: 0.0666 - acc: 0.9818\n",
      "Epoch 29/100\n",
      "7980/7980 [==============================] - 10s 1ms/step - loss: 0.0436 - acc: 0.9852\n",
      "Epoch 30/100\n",
      "7980/7980 [==============================] - 10s 1ms/step - loss: 0.0574 - acc: 0.9841\n",
      "Epoch 31/100\n",
      "7980/7980 [==============================] - 10s 1ms/step - loss: 0.0520 - acc: 0.9871\n",
      "Epoch 32/100\n",
      "7980/7980 [==============================] - 10s 1ms/step - loss: 0.0489 - acc: 0.9865\n",
      "Epoch 33/100\n",
      "7980/7980 [==============================] - 10s 1ms/step - loss: 0.0470 - acc: 0.9867\n",
      "Epoch 34/100\n",
      "7980/7980 [==============================] - 10s 1ms/step - loss: 0.0529 - acc: 0.9855\n",
      "Epoch 35/100\n",
      "7980/7980 [==============================] - 10s 1ms/step - loss: 0.0504 - acc: 0.9866\n",
      "Epoch 36/100\n",
      "7980/7980 [==============================] - 11s 1ms/step - loss: 0.0454 - acc: 0.9881\n",
      "Epoch 37/100\n",
      "7980/7980 [==============================] - 11s 1ms/step - loss: 0.0466 - acc: 0.9867\n",
      "Epoch 38/100\n",
      "7980/7980 [==============================] - 11s 1ms/step - loss: 0.0604 - acc: 0.9837: 1s - loss: 0.063\n",
      "Epoch 39/100\n",
      "7980/7980 [==============================] - 10s 1ms/step - loss: 0.0366 - acc: 0.9886\n",
      "Epoch 40/100\n",
      "7980/7980 [==============================] - 10s 1ms/step - loss: 0.0428 - acc: 0.9871\n",
      "Epoch 41/100\n",
      "7980/7980 [==============================] - 11s 1ms/step - loss: 0.0450 - acc: 0.9867\n",
      "Epoch 42/100\n",
      "7980/7980 [==============================] - 10s 1ms/step - loss: 0.0399 - acc: 0.9886\n",
      "Epoch 43/100\n",
      "7980/7980 [==============================] - 11s 1ms/step - loss: 0.0382 - acc: 0.9890\n",
      "Epoch 44/100\n",
      "7980/7980 [==============================] - 11s 1ms/step - loss: 0.0367 - acc: 0.9893\n",
      "Epoch 45/100\n",
      "7980/7980 [==============================] - 10s 1ms/step - loss: 0.0630 - acc: 0.9852\n",
      "Epoch 46/100\n",
      "7980/7980 [==============================] - 10s 1ms/step - loss: 0.0709 - acc: 0.9837\n",
      "Epoch 47/100\n",
      "7980/7980 [==============================] - 10s 1ms/step - loss: 0.0336 - acc: 0.9897: 0s - loss: 0.0351 - a\n",
      "Epoch 48/100\n",
      "7980/7980 [==============================] - 10s 1ms/step - loss: 0.0304 - acc: 0.9920\n",
      "Epoch 49/100\n",
      "7980/7980 [==============================] - 10s 1ms/step - loss: 0.0310 - acc: 0.9907\n",
      "Epoch 50/100\n",
      "7980/7980 [==============================] - 10s 1ms/step - loss: 0.0398 - acc: 0.9901\n",
      "Epoch 51/100\n",
      "7980/7980 [==============================] - 10s 1ms/step - loss: 0.0303 - acc: 0.9920\n",
      "Epoch 52/100\n",
      "7980/7980 [==============================] - 10s 1ms/step - loss: 0.0327 - acc: 0.9900\n",
      "Epoch 53/100\n",
      "7980/7980 [==============================] - 10s 1ms/step - loss: 0.0459 - acc: 0.9875\n",
      "Epoch 54/100\n",
      "7980/7980 [==============================] - 10s 1ms/step - loss: 0.0502 - acc: 0.9890\n",
      "Epoch 55/100\n",
      "7980/7980 [==============================] - 10s 1ms/step - loss: 0.0509 - acc: 0.9877\n",
      "Epoch 56/100\n",
      "7980/7980 [==============================] - 10s 1ms/step - loss: 0.0336 - acc: 0.9898\n",
      "Epoch 57/100\n",
      "7980/7980 [==============================] - 10s 1ms/step - loss: 0.0334 - acc: 0.9902\n",
      "Epoch 58/100\n",
      "7980/7980 [==============================] - 10s 1ms/step - loss: 0.0436 - acc: 0.9886\n",
      "Epoch 59/100\n",
      "7980/7980 [==============================] - 10s 1ms/step - loss: 0.0234 - acc: 0.9922\n",
      "Epoch 60/100\n",
      "7980/7980 [==============================] - 10s 1ms/step - loss: 0.0465 - acc: 0.9890\n",
      "Epoch 61/100\n",
      "7980/7980 [==============================] - 10s 1ms/step - loss: 0.0745 - acc: 0.9838\n",
      "Epoch 62/100\n",
      "7980/7980 [==============================] - 10s 1ms/step - loss: 0.0491 - acc: 0.9880\n",
      "Epoch 63/100\n",
      "7980/7980 [==============================] - 10s 1ms/step - loss: 0.0369 - acc: 0.9896\n",
      "Epoch 64/100\n",
      "7980/7980 [==============================] - 10s 1ms/step - loss: 0.0401 - acc: 0.9910\n",
      "Epoch 65/100\n",
      "7980/7980 [==============================] - 10s 1ms/step - loss: 0.0324 - acc: 0.9906\n",
      "Epoch 66/100\n",
      "7980/7980 [==============================] - 10s 1ms/step - loss: 0.0260 - acc: 0.9944\n",
      "Epoch 67/100\n",
      "7980/7980 [==============================] - 10s 1ms/step - loss: 0.0185 - acc: 0.9945\n",
      "Epoch 68/100\n",
      "7980/7980 [==============================] - 10s 1ms/step - loss: 0.0254 - acc: 0.9940\n",
      "Epoch 69/100\n",
      "7980/7980 [==============================] - 10s 1ms/step - loss: 0.0426 - acc: 0.9901\n",
      "Epoch 70/100\n",
      "7980/7980 [==============================] - 10s 1ms/step - loss: 0.0440 - acc: 0.9882\n",
      "Epoch 71/100\n",
      "7980/7980 [==============================] - 10s 1ms/step - loss: 0.0303 - acc: 0.9904\n",
      "Epoch 72/100\n",
      "7980/7980 [==============================] - 10s 1ms/step - loss: 0.0303 - acc: 0.9917\n",
      "Epoch 73/100\n",
      "7980/7980 [==============================] - 10s 1ms/step - loss: 0.0511 - acc: 0.9862\n",
      "Epoch 74/100\n",
      "7980/7980 [==============================] - 10s 1ms/step - loss: 0.0407 - acc: 0.9885\n",
      "Epoch 75/100\n",
      "7980/7980 [==============================] - 10s 1ms/step - loss: 0.0421 - acc: 0.9890\n",
      "Epoch 76/100\n",
      "7980/7980 [==============================] - 10s 1ms/step - loss: 0.0409 - acc: 0.9900\n",
      "Epoch 77/100\n",
      "7980/7980 [==============================] - 10s 1ms/step - loss: 0.0274 - acc: 0.9919\n",
      "Epoch 78/100\n",
      "7980/7980 [==============================] - 10s 1ms/step - loss: 0.0383 - acc: 0.9926\n",
      "Epoch 79/100\n",
      "7980/7980 [==============================] - 10s 1ms/step - loss: 0.0292 - acc: 0.9925\n",
      "Epoch 80/100\n",
      "7980/7980 [==============================] - 10s 1ms/step - loss: 0.0433 - acc: 0.9880\n",
      "Epoch 81/100\n",
      "7980/7980 [==============================] - 10s 1ms/step - loss: 0.0710 - acc: 0.9866\n",
      "Epoch 82/100\n",
      "7980/7980 [==============================] - 10s 1ms/step - loss: 0.0270 - acc: 0.9919\n",
      "Epoch 83/100\n",
      "7980/7980 [==============================] - 10s 1ms/step - loss: 0.0214 - acc: 0.9927\n",
      "Epoch 84/100\n",
      "7980/7980 [==============================] - 10s 1ms/step - loss: 0.0324 - acc: 0.9926\n",
      "Epoch 85/100\n",
      "7980/7980 [==============================] - 10s 1ms/step - loss: 0.0197 - acc: 0.9946\n",
      "Epoch 86/100\n",
      "7980/7980 [==============================] - 10s 1ms/step - loss: 0.0229 - acc: 0.9930\n",
      "Epoch 87/100\n",
      "7980/7980 [==============================] - 10s 1ms/step - loss: 0.0380 - acc: 0.9904\n",
      "Epoch 88/100\n",
      "7980/7980 [==============================] - 10s 1ms/step - loss: 0.0508 - acc: 0.9897\n",
      "Epoch 89/100\n",
      "7980/7980 [==============================] - 10s 1ms/step - loss: 0.0422 - acc: 0.9895\n",
      "Epoch 90/100\n",
      "7980/7980 [==============================] - 10s 1ms/step - loss: 0.0299 - acc: 0.9927\n",
      "Epoch 91/100\n",
      "7980/7980 [==============================] - 10s 1ms/step - loss: 0.0248 - acc: 0.9932\n",
      "Epoch 92/100\n",
      "7980/7980 [==============================] - 10s 1ms/step - loss: 0.0274 - acc: 0.9924\n",
      "Epoch 93/100\n",
      "7980/7980 [==============================] - 10s 1ms/step - loss: 0.0819 - acc: 0.9840\n",
      "Epoch 94/100\n",
      "7980/7980 [==============================] - 10s 1ms/step - loss: 0.0332 - acc: 0.9917\n",
      "Epoch 95/100\n",
      "7980/7980 [==============================] - 10s 1ms/step - loss: 0.0255 - acc: 0.9930\n",
      "Epoch 96/100\n",
      "7980/7980 [==============================] - 10s 1ms/step - loss: 0.0272 - acc: 0.9915\n",
      "Epoch 97/100\n",
      "7980/7980 [==============================] - 10s 1ms/step - loss: 0.0237 - acc: 0.9924\n",
      "Epoch 98/100\n",
      "7980/7980 [==============================] - 10s 1ms/step - loss: 0.0436 - acc: 0.9895\n",
      "Epoch 99/100\n",
      "7980/7980 [==============================] - 10s 1ms/step - loss: 0.0601 - acc: 0.9891\n",
      "Epoch 100/100\n",
      "7980/7980 [==============================] - 10s 1ms/step - loss: 0.0326 - acc: 0.9936\n",
      "Epoch 1/100\n",
      "7980/7980 [==============================] - 16s 2ms/step - loss: 1.1789 - acc: 0.5791\n",
      "Epoch 2/100\n",
      "7980/7980 [==============================] - 10s 1ms/step - loss: 0.5009 - acc: 0.8138\n",
      "Epoch 3/100\n",
      "7980/7980 [==============================] - 10s 1ms/step - loss: 0.3695 - acc: 0.8633\n",
      "Epoch 4/100\n",
      "7980/7980 [==============================] - 10s 1ms/step - loss: 0.3288 - acc: 0.8767\n",
      "Epoch 5/100\n",
      "7980/7980 [==============================] - 10s 1ms/step - loss: 0.2754 - acc: 0.8957\n",
      "Epoch 6/100\n",
      "7980/7980 [==============================] - 10s 1ms/step - loss: 0.2584 - acc: 0.9023\n",
      "Epoch 7/100\n",
      "7980/7980 [==============================] - 10s 1ms/step - loss: 0.2409 - acc: 0.9135\n",
      "Epoch 8/100\n",
      "7980/7980 [==============================] - 10s 1ms/step - loss: 0.2165 - acc: 0.9231\n",
      "Epoch 9/100\n",
      "7980/7980 [==============================] - 10s 1ms/step - loss: 0.2113 - acc: 0.9317\n",
      "Epoch 10/100\n",
      "7980/7980 [==============================] - 10s 1ms/step - loss: 0.1997 - acc: 0.9352\n",
      "Epoch 11/100\n",
      "7980/7980 [==============================] - 10s 1ms/step - loss: 0.1670 - acc: 0.9462\n",
      "Epoch 12/100\n",
      "7980/7980 [==============================] - 10s 1ms/step - loss: 0.1664 - acc: 0.9456\n",
      "Epoch 13/100\n",
      "7980/7980 [==============================] - 10s 1ms/step - loss: 0.1552 - acc: 0.9529\n",
      "Epoch 14/100\n",
      "7980/7980 [==============================] - 10s 1ms/step - loss: 0.1346 - acc: 0.9608\n",
      "Epoch 15/100\n",
      "7980/7980 [==============================] - 10s 1ms/step - loss: 0.1352 - acc: 0.9598\n",
      "Epoch 16/100\n",
      "7980/7980 [==============================] - 10s 1ms/step - loss: 0.1172 - acc: 0.9662\n",
      "Epoch 17/100\n",
      "7980/7980 [==============================] - 10s 1ms/step - loss: 0.1163 - acc: 0.9660\n",
      "Epoch 18/100\n",
      "7980/7980 [==============================] - 10s 1ms/step - loss: 0.1226 - acc: 0.9690\n",
      "Epoch 19/100\n",
      "7980/7980 [==============================] - 10s 1ms/step - loss: 0.1046 - acc: 0.9699\n",
      "Epoch 20/100\n",
      "7980/7980 [==============================] - 10s 1ms/step - loss: 0.1202 - acc: 0.9679\n",
      "Epoch 21/100\n",
      "7980/7980 [==============================] - 10s 1ms/step - loss: 0.1127 - acc: 0.9680\n",
      "Epoch 22/100\n",
      "7980/7980 [==============================] - 10s 1ms/step - loss: 0.0880 - acc: 0.9756\n",
      "Epoch 23/100\n",
      "7980/7980 [==============================] - 10s 1ms/step - loss: 0.0795 - acc: 0.9763\n",
      "Epoch 24/100\n",
      "7980/7980 [==============================] - 10s 1ms/step - loss: 0.0772 - acc: 0.9772\n",
      "Epoch 25/100\n",
      "7980/7980 [==============================] - 10s 1ms/step - loss: 0.1018 - acc: 0.9717\n",
      "Epoch 26/100\n",
      "7980/7980 [==============================] - 10s 1ms/step - loss: 0.0676 - acc: 0.9799\n",
      "Epoch 27/100\n",
      "7980/7980 [==============================] - 10s 1ms/step - loss: 0.0899 - acc: 0.9752\n",
      "Epoch 28/100\n",
      "7980/7980 [==============================] - 10s 1ms/step - loss: 0.0788 - acc: 0.9778\n",
      "Epoch 29/100\n",
      "7980/7980 [==============================] - 10s 1ms/step - loss: 0.0893 - acc: 0.9771\n",
      "Epoch 30/100\n",
      "7980/7980 [==============================] - 10s 1ms/step - loss: 0.0757 - acc: 0.9807\n",
      "Epoch 31/100\n",
      "7980/7980 [==============================] - 10s 1ms/step - loss: 0.0842 - acc: 0.9777\n",
      "Epoch 32/100\n",
      "7980/7980 [==============================] - 11s 1ms/step - loss: 0.0740 - acc: 0.9816\n",
      "Epoch 33/100\n",
      "7980/7980 [==============================] - 13s 2ms/step - loss: 0.0793 - acc: 0.9796\n",
      "Epoch 34/100\n",
      "7980/7980 [==============================] - 12s 2ms/step - loss: 0.0865 - acc: 0.9787\n",
      "Epoch 35/100\n",
      "7980/7980 [==============================] - 10s 1ms/step - loss: 0.0883 - acc: 0.9751\n",
      "Epoch 36/100\n",
      "7980/7980 [==============================] - 10s 1ms/step - loss: 0.0732 - acc: 0.9805\n",
      "Epoch 37/100\n",
      "7980/7980 [==============================] - 10s 1ms/step - loss: 0.0719 - acc: 0.9812\n",
      "Epoch 38/100\n",
      "7980/7980 [==============================] - 10s 1ms/step - loss: 0.0668 - acc: 0.9823\n",
      "Epoch 39/100\n",
      "7980/7980 [==============================] - 10s 1ms/step - loss: 0.0721 - acc: 0.9792\n",
      "Epoch 40/100\n",
      "7980/7980 [==============================] - 10s 1ms/step - loss: 0.0623 - acc: 0.9822\n",
      "Epoch 41/100\n",
      "7980/7980 [==============================] - 10s 1ms/step - loss: 0.0670 - acc: 0.9825\n",
      "Epoch 42/100\n",
      "7980/7980 [==============================] - 10s 1ms/step - loss: 0.0863 - acc: 0.9784\n",
      "Epoch 43/100\n",
      "7980/7980 [==============================] - 10s 1ms/step - loss: 0.0735 - acc: 0.9820\n",
      "Epoch 44/100\n",
      "7980/7980 [==============================] - 10s 1ms/step - loss: 0.0658 - acc: 0.9812\n",
      "Epoch 45/100\n",
      "7980/7980 [==============================] - 10s 1ms/step - loss: 0.0527 - acc: 0.9847\n",
      "Epoch 46/100\n",
      "7980/7980 [==============================] - 10s 1ms/step - loss: 0.0499 - acc: 0.9862\n",
      "Epoch 47/100\n",
      "7980/7980 [==============================] - 10s 1ms/step - loss: 0.0495 - acc: 0.9858\n",
      "Epoch 48/100\n",
      "7980/7980 [==============================] - 10s 1ms/step - loss: 0.0528 - acc: 0.9852\n",
      "Epoch 49/100\n",
      "7980/7980 [==============================] - 10s 1ms/step - loss: 0.0603 - acc: 0.9822\n",
      "Epoch 50/100\n",
      "7980/7980 [==============================] - 10s 1ms/step - loss: 0.0809 - acc: 0.9781\n",
      "Epoch 51/100\n",
      "7980/7980 [==============================] - 10s 1ms/step - loss: 0.0600 - acc: 0.9830\n",
      "Epoch 52/100\n",
      "7980/7980 [==============================] - 10s 1ms/step - loss: 0.0502 - acc: 0.9856\n",
      "Epoch 53/100\n",
      "7980/7980 [==============================] - 10s 1ms/step - loss: 0.0412 - acc: 0.9868\n",
      "Epoch 54/100\n",
      "7980/7980 [==============================] - 10s 1ms/step - loss: 0.0594 - acc: 0.9831\n",
      "Epoch 55/100\n",
      "7980/7980 [==============================] - 10s 1ms/step - loss: 0.0534 - acc: 0.9853\n",
      "Epoch 56/100\n",
      "7980/7980 [==============================] - 10s 1ms/step - loss: 0.0608 - acc: 0.9857\n",
      "Epoch 57/100\n",
      "7980/7980 [==============================] - 10s 1ms/step - loss: 0.0601 - acc: 0.9830\n",
      "Epoch 58/100\n",
      "7980/7980 [==============================] - 11s 1ms/step - loss: 0.0632 - acc: 0.9822\n",
      "Epoch 59/100\n",
      "7980/7980 [==============================] - 10s 1ms/step - loss: 0.0405 - acc: 0.9868\n",
      "Epoch 60/100\n",
      "7980/7980 [==============================] - 10s 1ms/step - loss: 0.0500 - acc: 0.9870\n",
      "Epoch 61/100\n",
      "7980/7980 [==============================] - 11s 1ms/step - loss: 0.0561 - acc: 0.9845\n",
      "Epoch 62/100\n",
      "7980/7980 [==============================] - 10s 1ms/step - loss: 0.0460 - acc: 0.9870\n",
      "Epoch 63/100\n",
      "7980/7980 [==============================] - 10s 1ms/step - loss: 0.0460 - acc: 0.9875\n",
      "Epoch 64/100\n",
      "7980/7980 [==============================] - 10s 1ms/step - loss: 0.0427 - acc: 0.9861\n",
      "Epoch 65/100\n",
      "7980/7980 [==============================] - 10s 1ms/step - loss: 0.0443 - acc: 0.9876\n",
      "Epoch 66/100\n",
      "7980/7980 [==============================] - 10s 1ms/step - loss: 0.0556 - acc: 0.9842\n",
      "Epoch 67/100\n",
      "7980/7980 [==============================] - 10s 1ms/step - loss: 0.0319 - acc: 0.9896\n",
      "Epoch 68/100\n",
      "7980/7980 [==============================] - 10s 1ms/step - loss: 0.0307 - acc: 0.9892\n",
      "Epoch 69/100\n",
      "7980/7980 [==============================] - 10s 1ms/step - loss: 0.0756 - acc: 0.9820\n",
      "Epoch 70/100\n",
      "7980/7980 [==============================] - 10s 1ms/step - loss: 0.0745 - acc: 0.9791\n",
      "Epoch 71/100\n",
      "7980/7980 [==============================] - 10s 1ms/step - loss: 0.0428 - acc: 0.9876\n",
      "Epoch 72/100\n",
      "7980/7980 [==============================] - 10s 1ms/step - loss: 0.0407 - acc: 0.9877\n",
      "Epoch 73/100\n",
      "7980/7980 [==============================] - 10s 1ms/step - loss: 0.0298 - acc: 0.9900\n",
      "Epoch 74/100\n",
      "7980/7980 [==============================] - 10s 1ms/step - loss: 0.0371 - acc: 0.9906\n",
      "Epoch 75/100\n",
      "7980/7980 [==============================] - 10s 1ms/step - loss: 0.0453 - acc: 0.9888\n",
      "Epoch 76/100\n",
      "7980/7980 [==============================] - 10s 1ms/step - loss: 0.0337 - acc: 0.9896\n",
      "Epoch 77/100\n",
      "7980/7980 [==============================] - 10s 1ms/step - loss: 0.0480 - acc: 0.9880\n",
      "Epoch 78/100\n",
      "7980/7980 [==============================] - 10s 1ms/step - loss: 0.0660 - acc: 0.9841\n",
      "Epoch 79/100\n",
      "7980/7980 [==============================] - 10s 1ms/step - loss: 0.0539 - acc: 0.9875\n",
      "Epoch 80/100\n",
      "7980/7980 [==============================] - 10s 1ms/step - loss: 0.0401 - acc: 0.9881\n",
      "Epoch 81/100\n",
      "7980/7980 [==============================] - 10s 1ms/step - loss: 0.0354 - acc: 0.9906\n",
      "Epoch 82/100\n",
      "7980/7980 [==============================] - 10s 1ms/step - loss: 0.0340 - acc: 0.9911\n",
      "Epoch 83/100\n",
      "7980/7980 [==============================] - 10s 1ms/step - loss: 0.0235 - acc: 0.9910\n",
      "Epoch 84/100\n",
      "7980/7980 [==============================] - 10s 1ms/step - loss: 0.0457 - acc: 0.9886\n",
      "Epoch 85/100\n",
      "7980/7980 [==============================] - 10s 1ms/step - loss: 0.0579 - acc: 0.9853\n",
      "Epoch 86/100\n",
      "7980/7980 [==============================] - 10s 1ms/step - loss: 0.0437 - acc: 0.9886\n",
      "Epoch 87/100\n",
      "7980/7980 [==============================] - 10s 1ms/step - loss: 0.0537 - acc: 0.9877\n",
      "Epoch 88/100\n",
      "7980/7980 [==============================] - 10s 1ms/step - loss: 0.0538 - acc: 0.9882\n",
      "Epoch 89/100\n",
      "7980/7980 [==============================] - 10s 1ms/step - loss: 0.0353 - acc: 0.9902\n",
      "Epoch 90/100\n",
      "7980/7980 [==============================] - 10s 1ms/step - loss: 0.0352 - acc: 0.9873\n",
      "Epoch 91/100\n",
      "7980/7980 [==============================] - 10s 1ms/step - loss: 0.0353 - acc: 0.9900\n",
      "Epoch 92/100\n",
      "7980/7980 [==============================] - 10s 1ms/step - loss: 0.0416 - acc: 0.9900\n",
      "Epoch 93/100\n",
      "7980/7980 [==============================] - 10s 1ms/step - loss: 0.0459 - acc: 0.9872\n",
      "Epoch 94/100\n",
      "7980/7980 [==============================] - 10s 1ms/step - loss: 0.0409 - acc: 0.9893\n",
      "Epoch 95/100\n",
      "7980/7980 [==============================] - 10s 1ms/step - loss: 0.0587 - acc: 0.9881\n",
      "Epoch 96/100\n",
      "7980/7980 [==============================] - 10s 1ms/step - loss: 0.0822 - acc: 0.9805\n",
      "Epoch 97/100\n",
      "7980/7980 [==============================] - 10s 1ms/step - loss: 0.0401 - acc: 0.9895\n",
      "Epoch 98/100\n",
      "7980/7980 [==============================] - 10s 1ms/step - loss: 0.0339 - acc: 0.9907\n",
      "Epoch 99/100\n",
      "7980/7980 [==============================] - 10s 1ms/step - loss: 0.0361 - acc: 0.9895\n",
      "Epoch 100/100\n",
      "7980/7980 [==============================] - 10s 1ms/step - loss: 0.0625 - acc: 0.9841\n",
      "Epoch 1/100\n",
      "7980/7980 [==============================] - 16s 2ms/step - loss: 1.1399 - acc: 0.5991\n",
      "Epoch 2/100\n",
      "7980/7980 [==============================] - 10s 1ms/step - loss: 0.4060 - acc: 0.8519\n",
      "Epoch 3/100\n",
      "7980/7980 [==============================] - 10s 1ms/step - loss: 0.2936 - acc: 0.8976\n",
      "Epoch 4/100\n",
      "7980/7980 [==============================] - 10s 1ms/step - loss: 0.2429 - acc: 0.9241\n",
      "Epoch 5/100\n",
      "7980/7980 [==============================] - 10s 1ms/step - loss: 0.1920 - acc: 0.9432\n",
      "Epoch 6/100\n",
      "7980/7980 [==============================] - 10s 1ms/step - loss: 0.1671 - acc: 0.9503\n",
      "Epoch 7/100\n",
      "7980/7980 [==============================] - 10s 1ms/step - loss: 0.1570 - acc: 0.9585\n",
      "Epoch 8/100\n",
      "7980/7980 [==============================] - 10s 1ms/step - loss: 0.1406 - acc: 0.9615\n",
      "Epoch 9/100\n",
      "7980/7980 [==============================] - 11s 1ms/step - loss: 0.1260 - acc: 0.9659\n",
      "Epoch 10/100\n",
      "7980/7980 [==============================] - 11s 1ms/step - loss: 0.1227 - acc: 0.9684\n",
      "Epoch 11/100\n",
      "7980/7980 [==============================] - 10s 1ms/step - loss: 0.0940 - acc: 0.9746\n",
      "Epoch 12/100\n",
      "7980/7980 [==============================] - 10s 1ms/step - loss: 0.1035 - acc: 0.9703\n",
      "Epoch 13/100\n",
      "7980/7980 [==============================] - 10s 1ms/step - loss: 0.0971 - acc: 0.9736\n",
      "Epoch 14/100\n",
      "7980/7980 [==============================] - 11s 1ms/step - loss: 0.0778 - acc: 0.9789\n",
      "Epoch 15/100\n",
      "7980/7980 [==============================] - 10s 1ms/step - loss: 0.1009 - acc: 0.9731\n",
      "Epoch 16/100\n",
      "7980/7980 [==============================] - 10s 1ms/step - loss: 0.1015 - acc: 0.9754\n",
      "Epoch 17/100\n",
      "7980/7980 [==============================] - 10s 1ms/step - loss: 0.0728 - acc: 0.9803\n",
      "Epoch 18/100\n",
      "7980/7980 [==============================] - 10s 1ms/step - loss: 0.0755 - acc: 0.9789\n",
      "Epoch 19/100\n",
      "7980/7980 [==============================] - 10s 1ms/step - loss: 0.0897 - acc: 0.9791\n",
      "Epoch 20/100\n",
      "7980/7980 [==============================] - 11s 1ms/step - loss: 0.0698 - acc: 0.9788\n",
      "Epoch 21/100\n",
      "7980/7980 [==============================] - 10s 1ms/step - loss: 0.0819 - acc: 0.9801\n",
      "Epoch 22/100\n",
      "7980/7980 [==============================] - 10s 1ms/step - loss: 0.0800 - acc: 0.9783\n",
      "Epoch 23/100\n",
      "7980/7980 [==============================] - 10s 1ms/step - loss: 0.0762 - acc: 0.9803\n",
      "Epoch 24/100\n",
      "7980/7980 [==============================] - 10s 1ms/step - loss: 0.0594 - acc: 0.9820\n",
      "Epoch 25/100\n",
      "7980/7980 [==============================] - 10s 1ms/step - loss: 0.0628 - acc: 0.9843\n",
      "Epoch 26/100\n",
      "7980/7980 [==============================] - 10s 1ms/step - loss: 0.0670 - acc: 0.9820\n",
      "Epoch 27/100\n",
      "7980/7980 [==============================] - 10s 1ms/step - loss: 0.0620 - acc: 0.9823\n",
      "Epoch 28/100\n",
      "7980/7980 [==============================] - 10s 1ms/step - loss: 0.0617 - acc: 0.9830\n",
      "Epoch 29/100\n",
      "7980/7980 [==============================] - 10s 1ms/step - loss: 0.0623 - acc: 0.9833\n",
      "Epoch 30/100\n",
      "7980/7980 [==============================] - 10s 1ms/step - loss: 0.0559 - acc: 0.9851\n",
      "Epoch 31/100\n",
      "7980/7980 [==============================] - 10s 1ms/step - loss: 0.0515 - acc: 0.9847\n",
      "Epoch 32/100\n",
      "7980/7980 [==============================] - 10s 1ms/step - loss: 0.0669 - acc: 0.9838\n",
      "Epoch 33/100\n",
      "7980/7980 [==============================] - 10s 1ms/step - loss: 0.0571 - acc: 0.9837\n",
      "Epoch 34/100\n",
      "7980/7980 [==============================] - 11s 1ms/step - loss: 0.0549 - acc: 0.9865\n",
      "Epoch 35/100\n",
      "7980/7980 [==============================] - 10s 1ms/step - loss: 0.0528 - acc: 0.9851\n",
      "Epoch 36/100\n",
      "7980/7980 [==============================] - 10s 1ms/step - loss: 0.0581 - acc: 0.9855\n",
      "Epoch 37/100\n",
      "7980/7980 [==============================] - 10s 1ms/step - loss: 0.0572 - acc: 0.9872\n",
      "Epoch 38/100\n",
      "7980/7980 [==============================] - 10s 1ms/step - loss: 0.0476 - acc: 0.9873\n",
      "Epoch 39/100\n",
      "7980/7980 [==============================] - 10s 1ms/step - loss: 0.0463 - acc: 0.9883\n",
      "Epoch 40/100\n",
      "7980/7980 [==============================] - 10s 1ms/step - loss: 0.0399 - acc: 0.9900\n",
      "Epoch 41/100\n",
      "7980/7980 [==============================] - 10s 1ms/step - loss: 0.0290 - acc: 0.9907\n",
      "Epoch 42/100\n",
      "7980/7980 [==============================] - 10s 1ms/step - loss: 0.0466 - acc: 0.9877\n",
      "Epoch 43/100\n",
      "7980/7980 [==============================] - 10s 1ms/step - loss: 0.0464 - acc: 0.9888\n",
      "Epoch 44/100\n",
      "7980/7980 [==============================] - 10s 1ms/step - loss: 0.0492 - acc: 0.9875\n",
      "Epoch 45/100\n",
      "7980/7980 [==============================] - 10s 1ms/step - loss: 0.0705 - acc: 0.9857\n",
      "Epoch 46/100\n",
      "7980/7980 [==============================] - 10s 1ms/step - loss: 0.0534 - acc: 0.9842\n",
      "Epoch 47/100\n",
      "7980/7980 [==============================] - 10s 1ms/step - loss: 0.0436 - acc: 0.9878\n",
      "Epoch 48/100\n",
      "7980/7980 [==============================] - 10s 1ms/step - loss: 0.0683 - acc: 0.9851\n",
      "Epoch 49/100\n",
      "7980/7980 [==============================] - 10s 1ms/step - loss: 0.0328 - acc: 0.9910\n",
      "Epoch 50/100\n",
      "7980/7980 [==============================] - 10s 1ms/step - loss: 0.0355 - acc: 0.9909\n",
      "Epoch 51/100\n",
      "7980/7980 [==============================] - 10s 1ms/step - loss: 0.0372 - acc: 0.9919\n",
      "Epoch 52/100\n",
      "7980/7980 [==============================] - 10s 1ms/step - loss: 0.0369 - acc: 0.9897\n",
      "Epoch 53/100\n",
      "7980/7980 [==============================] - 10s 1ms/step - loss: 0.0546 - acc: 0.9877\n",
      "Epoch 54/100\n",
      "7980/7980 [==============================] - 10s 1ms/step - loss: 0.0455 - acc: 0.9907\n",
      "Epoch 55/100\n",
      "7980/7980 [==============================] - 10s 1ms/step - loss: 0.0396 - acc: 0.9910\n",
      "Epoch 56/100\n",
      "7980/7980 [==============================] - 10s 1ms/step - loss: 0.0717 - acc: 0.9842\n",
      "Epoch 57/100\n",
      "7980/7980 [==============================] - 10s 1ms/step - loss: 0.0565 - acc: 0.9871\n",
      "Epoch 58/100\n",
      "7980/7980 [==============================] - 10s 1ms/step - loss: 0.0515 - acc: 0.9881\n",
      "Epoch 59/100\n",
      "7980/7980 [==============================] - 10s 1ms/step - loss: 0.0360 - acc: 0.9921\n",
      "Epoch 60/100\n",
      "7980/7980 [==============================] - 10s 1ms/step - loss: 0.0225 - acc: 0.9939\n",
      "Epoch 61/100\n",
      "7980/7980 [==============================] - 10s 1ms/step - loss: 0.0260 - acc: 0.9939\n",
      "Epoch 62/100\n",
      "7980/7980 [==============================] - 10s 1ms/step - loss: 0.0449 - acc: 0.9892\n",
      "Epoch 63/100\n",
      "7980/7980 [==============================] - 10s 1ms/step - loss: 0.0391 - acc: 0.9896\n",
      "Epoch 64/100\n",
      "7980/7980 [==============================] - 10s 1ms/step - loss: 0.0219 - acc: 0.9939\n",
      "Epoch 65/100\n",
      "7980/7980 [==============================] - 10s 1ms/step - loss: 0.0396 - acc: 0.9902\n",
      "Epoch 66/100\n",
      "7980/7980 [==============================] - 10s 1ms/step - loss: 0.0328 - acc: 0.9902\n",
      "Epoch 67/100\n",
      "7980/7980 [==============================] - 10s 1ms/step - loss: 0.0288 - acc: 0.9926\n",
      "Epoch 68/100\n",
      "7980/7980 [==============================] - 10s 1ms/step - loss: 0.0347 - acc: 0.9906\n",
      "Epoch 69/100\n",
      "7980/7980 [==============================] - 10s 1ms/step - loss: 0.0454 - acc: 0.9882\n",
      "Epoch 70/100\n",
      "7980/7980 [==============================] - 10s 1ms/step - loss: 0.0269 - acc: 0.9930\n",
      "Epoch 71/100\n",
      "7980/7980 [==============================] - 10s 1ms/step - loss: 0.0443 - acc: 0.9902\n",
      "Epoch 72/100\n",
      "7980/7980 [==============================] - 10s 1ms/step - loss: 0.0295 - acc: 0.9927\n",
      "Epoch 73/100\n",
      "7980/7980 [==============================] - 10s 1ms/step - loss: 0.0205 - acc: 0.9945\n",
      "Epoch 74/100\n",
      "7980/7980 [==============================] - 10s 1ms/step - loss: 0.0228 - acc: 0.9946\n",
      "Epoch 75/100\n",
      "7980/7980 [==============================] - 10s 1ms/step - loss: 0.0381 - acc: 0.9896\n",
      "Epoch 76/100\n",
      "7980/7980 [==============================] - 10s 1ms/step - loss: 0.0288 - acc: 0.9916\n",
      "Epoch 77/100\n",
      "7980/7980 [==============================] - 10s 1ms/step - loss: 0.0424 - acc: 0.9917\n",
      "Epoch 78/100\n",
      "7980/7980 [==============================] - 11s 1ms/step - loss: 0.0425 - acc: 0.9902\n",
      "Epoch 79/100\n",
      "7980/7980 [==============================] - 10s 1ms/step - loss: 0.0366 - acc: 0.9912\n",
      "Epoch 80/100\n",
      "7980/7980 [==============================] - 10s 1ms/step - loss: 0.0215 - acc: 0.9937\n",
      "Epoch 81/100\n",
      "7980/7980 [==============================] - 10s 1ms/step - loss: 0.0360 - acc: 0.9902\n",
      "Epoch 82/100\n",
      "7980/7980 [==============================] - 10s 1ms/step - loss: 0.0278 - acc: 0.9926\n",
      "Epoch 83/100\n",
      "7980/7980 [==============================] - 10s 1ms/step - loss: 0.0269 - acc: 0.9934\n",
      "Epoch 84/100\n",
      "7980/7980 [==============================] - 10s 1ms/step - loss: 0.0561 - acc: 0.9896\n",
      "Epoch 85/100\n",
      "7980/7980 [==============================] - 10s 1ms/step - loss: 0.0333 - acc: 0.9910\n",
      "Epoch 86/100\n",
      "7980/7980 [==============================] - 10s 1ms/step - loss: 0.0529 - acc: 0.9860\n",
      "Epoch 87/100\n",
      "7980/7980 [==============================] - 10s 1ms/step - loss: 0.0341 - acc: 0.9921\n",
      "Epoch 88/100\n",
      "7980/7980 [==============================] - 10s 1ms/step - loss: 0.0857 - acc: 0.9857\n",
      "Epoch 89/100\n",
      "7980/7980 [==============================] - 10s 1ms/step - loss: 0.0304 - acc: 0.9912\n",
      "Epoch 90/100\n",
      "7980/7980 [==============================] - 10s 1ms/step - loss: 0.0227 - acc: 0.9935\n",
      "Epoch 91/100\n",
      "7980/7980 [==============================] - 10s 1ms/step - loss: 0.0216 - acc: 0.9945\n",
      "Epoch 92/100\n",
      "7980/7980 [==============================] - 10s 1ms/step - loss: 0.0263 - acc: 0.9925\n",
      "Epoch 93/100\n",
      "7980/7980 [==============================] - 10s 1ms/step - loss: 0.0296 - acc: 0.9936\n",
      "Epoch 94/100\n",
      "7980/7980 [==============================] - 10s 1ms/step - loss: 0.0168 - acc: 0.9947\n",
      "Epoch 95/100\n",
      "7980/7980 [==============================] - 10s 1ms/step - loss: 0.0323 - acc: 0.9924\n",
      "Epoch 96/100\n",
      "7980/7980 [==============================] - 10s 1ms/step - loss: 0.0148 - acc: 0.9954\n",
      "Epoch 97/100\n",
      "7980/7980 [==============================] - 11s 1ms/step - loss: 0.0130 - acc: 0.9961\n",
      "Epoch 98/100\n",
      "7980/7980 [==============================] - 10s 1ms/step - loss: 0.0308 - acc: 0.9924\n",
      "Epoch 99/100\n",
      "7980/7980 [==============================] - 10s 1ms/step - loss: 0.0433 - acc: 0.9916\n",
      "Epoch 100/100\n",
      "7980/7980 [==============================] - 10s 1ms/step - loss: 0.0274 - acc: 0.9932\n",
      "Epoch 1/100\n",
      "7980/7980 [==============================] - 17s 2ms/step - loss: 1.2954 - acc: 0.5252\n",
      "Epoch 2/100\n",
      "7980/7980 [==============================] - 10s 1ms/step - loss: 0.5756 - acc: 0.7811\n",
      "Epoch 3/100\n",
      "7980/7980 [==============================] - 10s 1ms/step - loss: 0.4587 - acc: 0.8341\n",
      "Epoch 4/100\n",
      "7980/7980 [==============================] - 10s 1ms/step - loss: 0.3713 - acc: 0.8827\n",
      "Epoch 5/100\n",
      "7980/7980 [==============================] - 10s 1ms/step - loss: 0.2860 - acc: 0.9120\n",
      "Epoch 6/100\n",
      "7980/7980 [==============================] - 10s 1ms/step - loss: 0.2460 - acc: 0.9252\n",
      "Epoch 7/100\n",
      "7980/7980 [==============================] - 10s 1ms/step - loss: 0.2353 - acc: 0.9320\n",
      "Epoch 8/100\n",
      "7980/7980 [==============================] - 10s 1ms/step - loss: 0.1999 - acc: 0.9421\n",
      "Epoch 9/100\n",
      "7980/7980 [==============================] - 11s 1ms/step - loss: 0.2008 - acc: 0.9406\n",
      "Epoch 10/100\n",
      "7980/7980 [==============================] - 10s 1ms/step - loss: 0.1805 - acc: 0.9452\n",
      "Epoch 11/100\n",
      "7980/7980 [==============================] - 10s 1ms/step - loss: 0.1851 - acc: 0.9504\n",
      "Epoch 12/100\n",
      "7980/7980 [==============================] - 10s 1ms/step - loss: 0.1539 - acc: 0.9555\n",
      "Epoch 13/100\n",
      "7980/7980 [==============================] - 10s 1ms/step - loss: 0.1502 - acc: 0.9558\n",
      "Epoch 14/100\n",
      "7980/7980 [==============================] - 10s 1ms/step - loss: 0.1449 - acc: 0.9588\n",
      "Epoch 15/100\n",
      "7980/7980 [==============================] - 10s 1ms/step - loss: 0.1387 - acc: 0.9620\n",
      "Epoch 16/100\n",
      "7980/7980 [==============================] - 10s 1ms/step - loss: 0.1277 - acc: 0.9640\n",
      "Epoch 17/100\n",
      "7980/7980 [==============================] - 10s 1ms/step - loss: 0.1042 - acc: 0.9711\n",
      "Epoch 18/100\n",
      "7980/7980 [==============================] - 10s 1ms/step - loss: 0.1160 - acc: 0.9693\n",
      "Epoch 19/100\n",
      "7980/7980 [==============================] - 10s 1ms/step - loss: 0.1063 - acc: 0.9723\n",
      "Epoch 20/100\n",
      "7980/7980 [==============================] - 10s 1ms/step - loss: 0.1195 - acc: 0.9685\n",
      "Epoch 21/100\n",
      "7980/7980 [==============================] - 10s 1ms/step - loss: 0.1124 - acc: 0.9695\n",
      "Epoch 22/100\n",
      "7980/7980 [==============================] - 10s 1ms/step - loss: 0.1039 - acc: 0.9732\n",
      "Epoch 23/100\n",
      "7980/7980 [==============================] - 10s 1ms/step - loss: 0.1273 - acc: 0.9649\n",
      "Epoch 24/100\n",
      "7980/7980 [==============================] - 10s 1ms/step - loss: 0.1081 - acc: 0.9718\n",
      "Epoch 25/100\n",
      "7980/7980 [==============================] - 10s 1ms/step - loss: 0.0970 - acc: 0.9758\n",
      "Epoch 26/100\n",
      "7980/7980 [==============================] - 10s 1ms/step - loss: 0.0969 - acc: 0.9749\n",
      "Epoch 27/100\n",
      "7980/7980 [==============================] - 10s 1ms/step - loss: 0.0920 - acc: 0.9751\n",
      "Epoch 28/100\n",
      "7980/7980 [==============================] - 10s 1ms/step - loss: 0.0925 - acc: 0.9764\n",
      "Epoch 29/100\n",
      "7980/7980 [==============================] - 10s 1ms/step - loss: 0.0863 - acc: 0.9744\n",
      "Epoch 30/100\n",
      "7980/7980 [==============================] - 10s 1ms/step - loss: 0.0970 - acc: 0.9748\n",
      "Epoch 31/100\n",
      "7980/7980 [==============================] - 10s 1ms/step - loss: 0.0832 - acc: 0.9778\n",
      "Epoch 32/100\n",
      "7980/7980 [==============================] - 10s 1ms/step - loss: 0.0826 - acc: 0.9783\n",
      "Epoch 33/100\n",
      "7980/7980 [==============================] - 10s 1ms/step - loss: 0.0895 - acc: 0.9762\n",
      "Epoch 34/100\n",
      "7980/7980 [==============================] - 10s 1ms/step - loss: 0.1293 - acc: 0.9694\n",
      "Epoch 35/100\n",
      "7980/7980 [==============================] - 10s 1ms/step - loss: 0.0728 - acc: 0.9808\n",
      "Epoch 36/100\n",
      "7980/7980 [==============================] - 10s 1ms/step - loss: 0.0774 - acc: 0.9806\n",
      "Epoch 37/100\n",
      "7980/7980 [==============================] - 10s 1ms/step - loss: 0.0834 - acc: 0.9807\n",
      "Epoch 38/100\n",
      "7980/7980 [==============================] - 10s 1ms/step - loss: 0.0549 - acc: 0.9848\n",
      "Epoch 39/100\n",
      "7980/7980 [==============================] - 11s 1ms/step - loss: 0.0735 - acc: 0.9801\n",
      "Epoch 40/100\n",
      "7980/7980 [==============================] - 10s 1ms/step - loss: 0.0841 - acc: 0.9799\n",
      "Epoch 41/100\n",
      "7980/7980 [==============================] - 10s 1ms/step - loss: 0.0563 - acc: 0.9833\n",
      "Epoch 42/100\n",
      "7980/7980 [==============================] - 10s 1ms/step - loss: 0.0700 - acc: 0.9823\n",
      "Epoch 43/100\n",
      "7980/7980 [==============================] - 10s 1ms/step - loss: 0.0845 - acc: 0.9801\n",
      "Epoch 44/100\n",
      "7980/7980 [==============================] - 10s 1ms/step - loss: 0.1014 - acc: 0.9747\n",
      "Epoch 45/100\n",
      "7980/7980 [==============================] - 10s 1ms/step - loss: 0.0794 - acc: 0.9796\n",
      "Epoch 46/100\n",
      "7980/7980 [==============================] - 10s 1ms/step - loss: 0.0764 - acc: 0.9797\n",
      "Epoch 47/100\n",
      "7980/7980 [==============================] - 10s 1ms/step - loss: 0.0738 - acc: 0.9803\n",
      "Epoch 48/100\n",
      "7980/7980 [==============================] - 10s 1ms/step - loss: 0.0625 - acc: 0.9835\n",
      "Epoch 49/100\n",
      "7980/7980 [==============================] - 10s 1ms/step - loss: 0.0597 - acc: 0.9838\n",
      "Epoch 50/100\n",
      "7980/7980 [==============================] - 11s 1ms/step - loss: 0.0707 - acc: 0.9831: 2s -\n",
      "Epoch 51/100\n",
      "7980/7980 [==============================] - 10s 1ms/step - loss: 0.0540 - acc: 0.9847\n",
      "Epoch 52/100\n",
      "7980/7980 [==============================] - 10s 1ms/step - loss: 0.0836 - acc: 0.9802\n",
      "Epoch 53/100\n",
      "7980/7980 [==============================] - 10s 1ms/step - loss: 0.0642 - acc: 0.9831\n",
      "Epoch 54/100\n",
      "7980/7980 [==============================] - 10s 1ms/step - loss: 0.0669 - acc: 0.9835\n",
      "Epoch 55/100\n",
      "7980/7980 [==============================] - 10s 1ms/step - loss: 0.0598 - acc: 0.9840\n",
      "Epoch 56/100\n",
      "7980/7980 [==============================] - 10s 1ms/step - loss: 0.0564 - acc: 0.9845\n",
      "Epoch 57/100\n",
      "7980/7980 [==============================] - 10s 1ms/step - loss: 0.0587 - acc: 0.9836\n",
      "Epoch 58/100\n",
      "7980/7980 [==============================] - 10s 1ms/step - loss: 0.0570 - acc: 0.9832\n",
      "Epoch 59/100\n",
      "7980/7980 [==============================] - 10s 1ms/step - loss: 0.0519 - acc: 0.9860\n",
      "Epoch 60/100\n",
      "7980/7980 [==============================] - 10s 1ms/step - loss: 0.0639 - acc: 0.9856\n",
      "Epoch 61/100\n",
      "7980/7980 [==============================] - 10s 1ms/step - loss: 0.0755 - acc: 0.9803\n",
      "Epoch 62/100\n",
      "7980/7980 [==============================] - 10s 1ms/step - loss: 0.0518 - acc: 0.9853\n",
      "Epoch 63/100\n",
      "7980/7980 [==============================] - 10s 1ms/step - loss: 0.0684 - acc: 0.9822\n",
      "Epoch 64/100\n",
      "7980/7980 [==============================] - 10s 1ms/step - loss: 0.0597 - acc: 0.9847\n",
      "Epoch 65/100\n",
      "7980/7980 [==============================] - 10s 1ms/step - loss: 0.0846 - acc: 0.9778\n",
      "Epoch 66/100\n",
      "7980/7980 [==============================] - 10s 1ms/step - loss: 0.0647 - acc: 0.9827\n",
      "Epoch 67/100\n",
      "7980/7980 [==============================] - 10s 1ms/step - loss: 0.0621 - acc: 0.9830\n",
      "Epoch 68/100\n",
      "7980/7980 [==============================] - 10s 1ms/step - loss: 0.0511 - acc: 0.9868\n",
      "Epoch 69/100\n",
      "7980/7980 [==============================] - 10s 1ms/step - loss: 0.0498 - acc: 0.9860\n",
      "Epoch 70/100\n",
      "7980/7980 [==============================] - 10s 1ms/step - loss: 0.0560 - acc: 0.9861\n",
      "Epoch 71/100\n",
      "7980/7980 [==============================] - 10s 1ms/step - loss: 0.0423 - acc: 0.9880\n",
      "Epoch 72/100\n",
      "7980/7980 [==============================] - 10s 1ms/step - loss: 0.0609 - acc: 0.9850\n",
      "Epoch 73/100\n",
      "7980/7980 [==============================] - 10s 1ms/step - loss: 0.0398 - acc: 0.9900\n",
      "Epoch 74/100\n",
      "7980/7980 [==============================] - 10s 1ms/step - loss: 0.0547 - acc: 0.9870\n",
      "Epoch 75/100\n",
      "7980/7980 [==============================] - 10s 1ms/step - loss: 0.0671 - acc: 0.9830\n",
      "Epoch 76/100\n",
      "7980/7980 [==============================] - 10s 1ms/step - loss: 0.0552 - acc: 0.9875\n",
      "Epoch 77/100\n",
      "7980/7980 [==============================] - 10s 1ms/step - loss: 0.0475 - acc: 0.9880\n",
      "Epoch 78/100\n",
      "7980/7980 [==============================] - 10s 1ms/step - loss: 0.0507 - acc: 0.9871\n",
      "Epoch 79/100\n",
      "7980/7980 [==============================] - 10s 1ms/step - loss: 0.0480 - acc: 0.9885\n",
      "Epoch 80/100\n",
      "7980/7980 [==============================] - 10s 1ms/step - loss: 0.0674 - acc: 0.9842\n",
      "Epoch 81/100\n",
      "7980/7980 [==============================] - 10s 1ms/step - loss: 0.0579 - acc: 0.9867\n",
      "Epoch 82/100\n",
      "7980/7980 [==============================] - 10s 1ms/step - loss: 0.0449 - acc: 0.9888\n",
      "Epoch 83/100\n",
      "7980/7980 [==============================] - 10s 1ms/step - loss: 0.0630 - acc: 0.9841\n",
      "Epoch 84/100\n",
      "7980/7980 [==============================] - 10s 1ms/step - loss: 0.0548 - acc: 0.9866\n",
      "Epoch 85/100\n",
      "7980/7980 [==============================] - 10s 1ms/step - loss: 0.0586 - acc: 0.9838\n",
      "Epoch 86/100\n",
      "7980/7980 [==============================] - 10s 1ms/step - loss: 0.0457 - acc: 0.9871\n",
      "Epoch 87/100\n",
      "7980/7980 [==============================] - 10s 1ms/step - loss: 0.0503 - acc: 0.9873\n",
      "Epoch 88/100\n",
      "7980/7980 [==============================] - 10s 1ms/step - loss: 0.0305 - acc: 0.9911\n",
      "Epoch 89/100\n",
      "7980/7980 [==============================] - 10s 1ms/step - loss: 0.0383 - acc: 0.9886\n",
      "Epoch 90/100\n",
      "7980/7980 [==============================] - 10s 1ms/step - loss: 0.0484 - acc: 0.9902\n",
      "Epoch 91/100\n",
      "7980/7980 [==============================] - 10s 1ms/step - loss: 0.0353 - acc: 0.9910\n",
      "Epoch 92/100\n",
      "7980/7980 [==============================] - 10s 1ms/step - loss: 0.0605 - acc: 0.9845\n",
      "Epoch 93/100\n",
      "7980/7980 [==============================] - 10s 1ms/step - loss: 0.0524 - acc: 0.9867\n",
      "Epoch 94/100\n",
      "7980/7980 [==============================] - 10s 1ms/step - loss: 0.0391 - acc: 0.9901\n",
      "Epoch 95/100\n",
      "7980/7980 [==============================] - 10s 1ms/step - loss: 0.0336 - acc: 0.9904\n",
      "Epoch 96/100\n",
      "7980/7980 [==============================] - 10s 1ms/step - loss: 0.0466 - acc: 0.9865\n",
      "Epoch 97/100\n",
      "7980/7980 [==============================] - 10s 1ms/step - loss: 0.0388 - acc: 0.9901\n",
      "Epoch 98/100\n",
      "7980/7980 [==============================] - 10s 1ms/step - loss: 0.0482 - acc: 0.9891\n",
      "Epoch 99/100\n",
      "7980/7980 [==============================] - 10s 1ms/step - loss: 0.0547 - acc: 0.9872\n",
      "Epoch 100/100\n",
      "7980/7980 [==============================] - 10s 1ms/step - loss: 0.0516 - acc: 0.9886\n",
      "Epoch 1/100\n",
      "7980/7980 [==============================] - 17s 2ms/step - loss: 1.8470 - acc: 0.3699\n",
      "Epoch 2/100\n",
      "7980/7980 [==============================] - 10s 1ms/step - loss: 1.0125 - acc: 0.6693\n",
      "Epoch 3/100\n",
      "7980/7980 [==============================] - 10s 1ms/step - loss: 0.7826 - acc: 0.7650\n",
      "Epoch 4/100\n",
      "7980/7980 [==============================] - 11s 1ms/step - loss: 0.6586 - acc: 0.7980\n",
      "Epoch 5/100\n",
      "7980/7980 [==============================] - 11s 1ms/step - loss: 0.6061 - acc: 0.8195: 1s - loss: 0.6110\n",
      "Epoch 6/100\n",
      "7980/7980 [==============================] - 10s 1ms/step - loss: 0.5426 - acc: 0.8373\n",
      "Epoch 7/100\n",
      "7980/7980 [==============================] - 10s 1ms/step - loss: 0.5057 - acc: 0.8533\n",
      "Epoch 8/100\n",
      "7980/7980 [==============================] - 10s 1ms/step - loss: 0.4782 - acc: 0.8633\n",
      "Epoch 9/100\n",
      "7980/7980 [==============================] - 10s 1ms/step - loss: 0.4577 - acc: 0.8653\n",
      "Epoch 10/100\n",
      "7980/7980 [==============================] - 10s 1ms/step - loss: 0.4295 - acc: 0.8787\n",
      "Epoch 11/100\n",
      "7980/7980 [==============================] - 10s 1ms/step - loss: 0.4019 - acc: 0.8842\n",
      "Epoch 12/100\n",
      "7980/7980 [==============================] - 10s 1ms/step - loss: 0.4107 - acc: 0.8808\n",
      "Epoch 13/100\n",
      "7980/7980 [==============================] - 10s 1ms/step - loss: 0.3745 - acc: 0.8910\n",
      "Epoch 14/100\n",
      "7980/7980 [==============================] - 10s 1ms/step - loss: 0.3669 - acc: 0.8960\n",
      "Epoch 15/100\n",
      "7980/7980 [==============================] - 10s 1ms/step - loss: 0.3414 - acc: 0.9034\n",
      "Epoch 16/100\n",
      "7980/7980 [==============================] - 10s 1ms/step - loss: 0.3176 - acc: 0.9107\n",
      "Epoch 17/100\n",
      "7980/7980 [==============================] - 10s 1ms/step - loss: 0.3394 - acc: 0.9014\n",
      "Epoch 18/100\n",
      "7980/7980 [==============================] - 10s 1ms/step - loss: 0.3116 - acc: 0.9059\n",
      "Epoch 19/100\n",
      "7980/7980 [==============================] - 10s 1ms/step - loss: 0.3136 - acc: 0.9083\n",
      "Epoch 20/100\n",
      "7980/7980 [==============================] - 10s 1ms/step - loss: 0.2761 - acc: 0.9208\n",
      "Epoch 21/100\n",
      "7980/7980 [==============================] - 10s 1ms/step - loss: 0.2706 - acc: 0.9223\n",
      "Epoch 22/100\n",
      "7980/7980 [==============================] - 10s 1ms/step - loss: 0.2668 - acc: 0.9219\n",
      "Epoch 23/100\n",
      "7980/7980 [==============================] - 10s 1ms/step - loss: 0.2395 - acc: 0.9307\n",
      "Epoch 24/100\n",
      "7980/7980 [==============================] - 11s 1ms/step - loss: 0.2641 - acc: 0.9253\n",
      "Epoch 25/100\n",
      "7980/7980 [==============================] - 10s 1ms/step - loss: 0.2475 - acc: 0.9242\n",
      "Epoch 26/100\n",
      "7980/7980 [==============================] - 10s 1ms/step - loss: 0.2512 - acc: 0.9267\n",
      "Epoch 27/100\n",
      "7980/7980 [==============================] - 10s 1ms/step - loss: 0.2229 - acc: 0.9341\n",
      "Epoch 28/100\n",
      "7980/7980 [==============================] - 10s 1ms/step - loss: 0.2282 - acc: 0.9357\n",
      "Epoch 29/100\n",
      "7980/7980 [==============================] - 10s 1ms/step - loss: 0.2274 - acc: 0.9316\n",
      "Epoch 30/100\n",
      "7980/7980 [==============================] - 10s 1ms/step - loss: 0.2221 - acc: 0.9355\n",
      "Epoch 31/100\n",
      "7980/7980 [==============================] - 10s 1ms/step - loss: 0.2345 - acc: 0.9316\n",
      "Epoch 32/100\n",
      "7980/7980 [==============================] - 10s 1ms/step - loss: 0.2176 - acc: 0.9406\n",
      "Epoch 33/100\n",
      "7980/7980 [==============================] - 10s 1ms/step - loss: 0.2288 - acc: 0.9348\n",
      "Epoch 34/100\n",
      "7980/7980 [==============================] - 10s 1ms/step - loss: 0.2092 - acc: 0.9396\n",
      "Epoch 35/100\n",
      "7980/7980 [==============================] - 10s 1ms/step - loss: 0.2055 - acc: 0.9417\n",
      "Epoch 36/100\n",
      "7980/7980 [==============================] - 10s 1ms/step - loss: 0.1983 - acc: 0.9414\n",
      "Epoch 37/100\n",
      "7980/7980 [==============================] - 10s 1ms/step - loss: 0.1972 - acc: 0.9436\n",
      "Epoch 38/100\n",
      "7980/7980 [==============================] - 10s 1ms/step - loss: 0.1711 - acc: 0.9499\n",
      "Epoch 39/100\n",
      "7980/7980 [==============================] - 10s 1ms/step - loss: 0.1936 - acc: 0.9407\n",
      "Epoch 40/100\n",
      "7980/7980 [==============================] - 10s 1ms/step - loss: 0.1702 - acc: 0.9486\n",
      "Epoch 41/100\n",
      "7980/7980 [==============================] - 10s 1ms/step - loss: 0.1811 - acc: 0.9451\n",
      "Epoch 42/100\n",
      "7980/7980 [==============================] - 10s 1ms/step - loss: 0.1756 - acc: 0.9491\n",
      "Epoch 43/100\n",
      "7980/7980 [==============================] - 11s 1ms/step - loss: 0.1795 - acc: 0.9495\n",
      "Epoch 44/100\n",
      "7980/7980 [==============================] - 10s 1ms/step - loss: 0.1740 - acc: 0.9475\n",
      "Epoch 45/100\n",
      "7980/7980 [==============================] - 10s 1ms/step - loss: 0.1768 - acc: 0.9508\n",
      "Epoch 46/100\n",
      "7980/7980 [==============================] - 10s 1ms/step - loss: 0.1570 - acc: 0.9539\n",
      "Epoch 47/100\n",
      "7980/7980 [==============================] - 10s 1ms/step - loss: 0.1549 - acc: 0.9538\n",
      "Epoch 48/100\n",
      "7980/7980 [==============================] - 10s 1ms/step - loss: 0.1555 - acc: 0.9559\n",
      "Epoch 49/100\n",
      "7980/7980 [==============================] - 11s 1ms/step - loss: 0.1730 - acc: 0.9489\n",
      "Epoch 50/100\n",
      "7980/7980 [==============================] - 10s 1ms/step - loss: 0.1730 - acc: 0.9506\n",
      "Epoch 51/100\n",
      "7980/7980 [==============================] - 10s 1ms/step - loss: 0.1489 - acc: 0.9534\n",
      "Epoch 52/100\n",
      "7980/7980 [==============================] - 10s 1ms/step - loss: 0.1478 - acc: 0.9561\n",
      "Epoch 53/100\n",
      "7980/7980 [==============================] - 10s 1ms/step - loss: 0.1593 - acc: 0.9558\n",
      "Epoch 54/100\n",
      "7980/7980 [==============================] - 10s 1ms/step - loss: 0.1574 - acc: 0.9551\n",
      "Epoch 55/100\n",
      "7980/7980 [==============================] - 10s 1ms/step - loss: 0.1712 - acc: 0.9540: 0s - loss: 0.1658 - acc\n",
      "Epoch 56/100\n",
      "7980/7980 [==============================] - 10s 1ms/step - loss: 0.1656 - acc: 0.9555\n",
      "Epoch 57/100\n",
      "7980/7980 [==============================] - 10s 1ms/step - loss: 0.1503 - acc: 0.9545\n",
      "Epoch 58/100\n",
      "7980/7980 [==============================] - 10s 1ms/step - loss: 0.1369 - acc: 0.9609\n",
      "Epoch 59/100\n",
      "7980/7980 [==============================] - 11s 1ms/step - loss: 0.1497 - acc: 0.9581\n",
      "Epoch 60/100\n",
      "7980/7980 [==============================] - 10s 1ms/step - loss: 0.1371 - acc: 0.9596\n",
      "Epoch 61/100\n",
      "7980/7980 [==============================] - 10s 1ms/step - loss: 0.1427 - acc: 0.9599\n",
      "Epoch 62/100\n",
      "7980/7980 [==============================] - 10s 1ms/step - loss: 0.1359 - acc: 0.9604\n",
      "Epoch 63/100\n",
      "7980/7980 [==============================] - 10s 1ms/step - loss: 0.1327 - acc: 0.9615\n",
      "Epoch 64/100\n",
      "7980/7980 [==============================] - 10s 1ms/step - loss: 0.1463 - acc: 0.9586\n",
      "Epoch 65/100\n",
      "7980/7980 [==============================] - 10s 1ms/step - loss: 0.1583 - acc: 0.9549\n",
      "Epoch 66/100\n",
      "7980/7980 [==============================] - 11s 1ms/step - loss: 0.1311 - acc: 0.9662\n",
      "Epoch 67/100\n",
      "7980/7980 [==============================] - 10s 1ms/step - loss: 0.1239 - acc: 0.9648\n",
      "Epoch 68/100\n",
      "7980/7980 [==============================] - 10s 1ms/step - loss: 0.1110 - acc: 0.9682\n",
      "Epoch 69/100\n",
      "7980/7980 [==============================] - 10s 1ms/step - loss: 0.1289 - acc: 0.9638\n",
      "Epoch 70/100\n",
      "7980/7980 [==============================] - 10s 1ms/step - loss: 0.1256 - acc: 0.9635\n",
      "Epoch 71/100\n",
      "7980/7980 [==============================] - 10s 1ms/step - loss: 0.1151 - acc: 0.9679\n",
      "Epoch 72/100\n",
      "7980/7980 [==============================] - 10s 1ms/step - loss: 0.1174 - acc: 0.9665\n",
      "Epoch 73/100\n",
      "7980/7980 [==============================] - 10s 1ms/step - loss: 0.1271 - acc: 0.9650\n",
      "Epoch 74/100\n",
      "7980/7980 [==============================] - 10s 1ms/step - loss: 0.0985 - acc: 0.9712\n",
      "Epoch 75/100\n",
      "7980/7980 [==============================] - 10s 1ms/step - loss: 0.1116 - acc: 0.9693\n",
      "Epoch 76/100\n",
      "7980/7980 [==============================] - 10s 1ms/step - loss: 0.1191 - acc: 0.9678\n",
      "Epoch 77/100\n",
      "7980/7980 [==============================] - 10s 1ms/step - loss: 0.1276 - acc: 0.9612\n",
      "Epoch 78/100\n",
      "7980/7980 [==============================] - 10s 1ms/step - loss: 0.1134 - acc: 0.9703\n",
      "Epoch 79/100\n",
      "7980/7980 [==============================] - 10s 1ms/step - loss: 0.1179 - acc: 0.9650\n",
      "Epoch 80/100\n",
      "7980/7980 [==============================] - 10s 1ms/step - loss: 0.1086 - acc: 0.9685\n",
      "Epoch 81/100\n",
      "7980/7980 [==============================] - 11s 1ms/step - loss: 0.1105 - acc: 0.9712\n",
      "Epoch 82/100\n",
      "7980/7980 [==============================] - 10s 1ms/step - loss: 0.1098 - acc: 0.9692\n",
      "Epoch 83/100\n",
      "7980/7980 [==============================] - 10s 1ms/step - loss: 0.1263 - acc: 0.9655\n",
      "Epoch 84/100\n",
      "7980/7980 [==============================] - 10s 1ms/step - loss: 0.1134 - acc: 0.9704\n",
      "Epoch 85/100\n",
      "7980/7980 [==============================] - 10s 1ms/step - loss: 0.0975 - acc: 0.9711\n",
      "Epoch 86/100\n",
      "7980/7980 [==============================] - 10s 1ms/step - loss: 0.1262 - acc: 0.9655\n",
      "Epoch 87/100\n",
      "7980/7980 [==============================] - 10s 1ms/step - loss: 0.1249 - acc: 0.9668\n",
      "Epoch 88/100\n",
      "7980/7980 [==============================] - 10s 1ms/step - loss: 0.0914 - acc: 0.9741\n",
      "Epoch 89/100\n",
      "7980/7980 [==============================] - 10s 1ms/step - loss: 0.0930 - acc: 0.9768\n",
      "Epoch 90/100\n",
      "7980/7980 [==============================] - 10s 1ms/step - loss: 0.1011 - acc: 0.9703\n",
      "Epoch 91/100\n",
      "7980/7980 [==============================] - 10s 1ms/step - loss: 0.1147 - acc: 0.9683\n",
      "Epoch 92/100\n",
      "7980/7980 [==============================] - 10s 1ms/step - loss: 0.0956 - acc: 0.9728\n",
      "Epoch 93/100\n",
      "7980/7980 [==============================] - 10s 1ms/step - loss: 0.1039 - acc: 0.9721\n",
      "Epoch 94/100\n",
      "7980/7980 [==============================] - 10s 1ms/step - loss: 0.1013 - acc: 0.9713\n",
      "Epoch 95/100\n",
      "7980/7980 [==============================] - 10s 1ms/step - loss: 0.1085 - acc: 0.9708\n",
      "Epoch 96/100\n",
      "7980/7980 [==============================] - 10s 1ms/step - loss: 0.1313 - acc: 0.9668\n",
      "Epoch 97/100\n",
      "7980/7980 [==============================] - 10s 1ms/step - loss: 0.0997 - acc: 0.9719\n",
      "Epoch 98/100\n",
      "7980/7980 [==============================] - 10s 1ms/step - loss: 0.1188 - acc: 0.9688\n",
      "Epoch 99/100\n",
      "7980/7980 [==============================] - 10s 1ms/step - loss: 0.1000 - acc: 0.9741\n",
      "Epoch 100/100\n",
      "7980/7980 [==============================] - 10s 1ms/step - loss: 0.1047 - acc: 0.9712\n"
     ]
    },
    {
     "data": {
      "text/plain": [
       "<keras.callbacks.History at 0x23c65cc0320>"
      ]
     },
     "execution_count": 427,
     "metadata": {},
     "output_type": "execute_result"
    }
   ],
   "source": [
    "model_t_two.fit(x = train_t_x, y = train_y, epochs = 100)\n",
    "model_ra_two.fit(x = train_ra_x, y = train_y, epochs = 100)\n",
    "model_la_two.fit(x = train_la_x, y = train_y, epochs = 100)\n",
    "model_rl_two.fit(x = train_rl_x, y = train_y, epochs = 100)\n",
    "model_ll_two.fit(x = train_ll_x, y = train_y, epochs = 100)"
   ]
  },
  {
   "cell_type": "code",
   "execution_count": 337,
   "metadata": {
    "collapsed": true
   },
   "outputs": [],
   "source": [
    "preds1 = model_t_two.predict(test_ra_x)\n",
    "preds2 = model_ra_two.predict(test_ra_x)\n",
    "preds3 = model_la_two.predict(test_ra_x)\n",
    "preds4 = model_rl_two.predict(test_ra_x)\n",
    "preds5 = model_ll_two.predict(test_ra_x)"
   ]
  },
  {
   "cell_type": "code",
   "execution_count": 428,
   "metadata": {
    "collapsed": true
   },
   "outputs": [],
   "source": [
    "def get_score(model_t, model_ra, model_la, model_rl, model_ll, test_x, test_y):\n",
    "    predictions_t = model_t.predict(test_x)\n",
    "    predictions_ra = model_ra.predict(test_x)\n",
    "    predictions_la = model_la.predict(test_x)\n",
    "    predictions_rl = model_rl.predict(test_x)\n",
    "    predictions_ll = model_ll.predict(test_x)\n",
    "    \n",
    "    predictions = []\n",
    "    true = []\n",
    "    \n",
    "    for i in range(len(test_y)):\n",
    "        p1 = np.max(predictions_t[i])\n",
    "        p2 = np.max(predictions_ra[i])\n",
    "        p3 = np.max(predictions_la[i])\n",
    "        p4 = np.max(predictions_rl[i])\n",
    "        p5 = np.max(predictions_ll[i])\n",
    "        \n",
    "        preds = np.array((p1, p2, p3, p4, p5))\n",
    "        \n",
    "        if(np.argmax(preds) == 0):\n",
    "            predictions.append(np.argmax(predictions_t[i]))\n",
    "        elif(np.argmax(preds) == 1):\n",
    "            predictions.append(np.argmax(predictions_ra[i]))\n",
    "        elif(np.argmax(preds) == 2):\n",
    "            predictions.append(np.argmax(predictions_la[i]))\n",
    "        elif(np.argmax(preds) == 3):\n",
    "            predictions.append(np.argmax(predictions_rl[i]))\n",
    "        elif(np.argmax(preds) == 4):\n",
    "            predictions.append(np.argmax(predictions_ll[i]))\n",
    "            \n",
    "        true.append(np.argmax((test_y[i])))\n",
    "    \n",
    "    predictions = np.asarray(predictions)\n",
    "    true = np.asarray(true)\n",
    "    \n",
    "    correct = np.where((predictions == true))\n",
    "    total_correct = len(correct[0])\n",
    "    \n",
    "    accuracy = total_correct / len(test_y)\n",
    "    return accuracy"
   ]
  },
  {
   "cell_type": "code",
   "execution_count": 429,
   "metadata": {},
   "outputs": [
    {
     "data": {
      "text/plain": [
       "0.7429824561403509"
      ]
     },
     "execution_count": 429,
     "metadata": {},
     "output_type": "execute_result"
    }
   ],
   "source": [
    "get_score(model_t_two, model_ra_two, model_la_two, model_rl_two, model_ll_two, test_t_x, test_y)"
   ]
  },
  {
   "cell_type": "code",
   "execution_count": 430,
   "metadata": {},
   "outputs": [
    {
     "data": {
      "text/plain": [
       "0.41754385964912283"
      ]
     },
     "execution_count": 430,
     "metadata": {},
     "output_type": "execute_result"
    }
   ],
   "source": [
    "get_score(model_t_two, model_ra_two, model_la_two, model_rl_two, model_ll_two, test_ra_x, test_y)"
   ]
  },
  {
   "cell_type": "code",
   "execution_count": 431,
   "metadata": {},
   "outputs": [
    {
     "data": {
      "text/plain": [
       "0.5491228070175439"
      ]
     },
     "execution_count": 431,
     "metadata": {},
     "output_type": "execute_result"
    }
   ],
   "source": [
    "get_score(model_t_two, model_ra_two, model_la_two, model_rl_two, model_ll_two, test_la_x, test_y)"
   ]
  },
  {
   "cell_type": "code",
   "execution_count": 432,
   "metadata": {},
   "outputs": [
    {
     "data": {
      "text/plain": [
       "0.29912280701754385"
      ]
     },
     "execution_count": 432,
     "metadata": {},
     "output_type": "execute_result"
    }
   ],
   "source": [
    "get_score(model_t_two, model_ra_two, model_la_two, model_rl_two, model_ll_two, test_rl_x, test_y)"
   ]
  },
  {
   "cell_type": "code",
   "execution_count": 433,
   "metadata": {},
   "outputs": [
    {
     "data": {
      "text/plain": [
       "0.19210526315789472"
      ]
     },
     "execution_count": 433,
     "metadata": {},
     "output_type": "execute_result"
    }
   ],
   "source": [
    "get_score(model_t_two, model_ra_two, model_la_two, model_rl_two, model_ll_two, test_ll_x, test_y)"
   ]
  },
  {
   "cell_type": "code",
   "execution_count": 58,
   "metadata": {
    "collapsed": true
   },
   "outputs": [],
   "source": [
    "def get_score_weighted(model_t, model_ra, model_la, model_rl, model_ll, test_x, test_y):\n",
    "    predictions_t = model_t.predict(test_x)\n",
    "    predictions_ra = model_ra.predict(test_x)\n",
    "    predictions_la = model_la.predict(test_x)\n",
    "    predictions_rl = model_rl.predict(test_x)\n",
    "    predictions_ll = model_ll.predict(test_x)\n",
    "    \n",
    "    predictions = []\n",
    "    true = []\n",
    "    \n",
    "    for i in range(len(test_y)):\n",
    "        p1 = zip(np.argmax(predictions_t[i]), np.max(predictions_t[i]))\n",
    "        p2 = zip(np.argmax(predictions_ra[i]), np.max(predictions_ra[i]))\n",
    "        p3 = zip(np.argmax(predictions_la[i]), np.max(predictions_la[i]))\n",
    "        p4 = zip(np.argmax(predictions_rl[i]), np.max(predictions_rl[i]))\n",
    "        p5 = zip(np.argmax(predictions_ll[i]), np.max(predictions_ll[i]))\n",
    "        \n",
    "        preds = np.array((p1, p2, p3, p4, p5))\n",
    "        \n",
    "        if(np.argmax(preds) == 0):\n",
    "            predictions.append(np.argmax(predictions_t[i]))\n",
    "        elif(np.argmax(preds) == 1):\n",
    "            predictions.append(np.argmax(predictions_ra[i]))\n",
    "        elif(np.argmax(preds) == 2):\n",
    "            predictions.append(np.argmax(predictions_la[i]))\n",
    "        elif(np.argmax(preds) == 3):\n",
    "            predictions.append(np.argmax(predictions_rl[i]))\n",
    "        elif(np.argmax(preds) == 4):\n",
    "            predictions.append(np.argmax(predictions_ll[i]))\n",
    "            \n",
    "        true.append(np.argmax((test_y[i])))\n",
    "    \n",
    "    predictions = np.asarray(predictions)\n",
    "    true = np.asarray(true)\n",
    "    \n",
    "    correct = np.where((predictions == true))\n",
    "    total_correct = len(correct[0])\n",
    "    \n",
    "    accuracy = total_correct / len(test_y)\n",
    "    return accuracy"
   ]
  },
  {
   "cell_type": "markdown",
   "metadata": {},
   "source": [
    "# Approach 1 using other Supervised learning Algorithms"
   ]
  },
  {
   "cell_type": "code",
   "execution_count": 22,
   "metadata": {
    "collapsed": true
   },
   "outputs": [],
   "source": [
    "from sklearn.linear_model import LogisticRegression, Perceptron\n",
    "from sklearn.svm import SVC\n",
    "from sklearn.neighbors import KNeighborsClassifier\n",
    "from sklearn.naive_bayes import GaussianNB\n",
    "from sklearn.tree import DecisionTreeClassifier\n",
    "from sklearn.ensemble import RandomForestClassifier\n",
    "from sklearn.metrics import precision_score, recall_score, f1_score, roc_auc_score, accuracy_score, classification_report\n",
    "from sklearn.model_selection import KFold, StratifiedKFold, cross_val_score\n",
    "import warnings\n",
    "warnings.filterwarnings(\"ignore\")"
   ]
  },
  {
   "cell_type": "markdown",
   "metadata": {},
   "source": [
    "### Preprocess Data"
   ]
  },
  {
   "cell_type": "code",
   "execution_count": 23,
   "metadata": {
    "collapsed": true
   },
   "outputs": [],
   "source": [
    "def preprocess_approach_one_others():\n",
    "    df = pd.read_csv('data/data.csv')\n",
    "    train_df = df.loc[df['person'] != 'p8']\n",
    "    test_df = df.loc[df['person'] == 'p8']\n",
    "\n",
    "    train_x = np.vstack((train_df.iloc[:, 0:81].values, \n",
    "                         train_df.iloc[:, 81:162].values, \n",
    "                         train_df.iloc[:, 162:243].values, \n",
    "                         train_df.iloc[:, 243:324].values, \n",
    "                         train_df.iloc[:, 324:405].values))\n",
    "    \n",
    "    train_y = np.hstack((train_df['activity'].values,\n",
    "                         train_df['activity'].values,\n",
    "                         train_df['activity'].values,\n",
    "                         train_df['activity'].values,\n",
    "                         train_df['activity'].values))\n",
    "    \n",
    "    test_t_x = test_df.iloc[:, 0:81].values\n",
    "    test_ra_x = test_df.iloc[:, 81:162].values\n",
    "    test_la_x = test_df.iloc[:, 162:243].values\n",
    "    test_rl_x = test_df.iloc[:, 243:324].values\n",
    "    test_ll_x = test_df.iloc[:, 324:405].values\n",
    "    \n",
    "    test_y = test_df['activity'].values\n",
    "    \n",
    "    # Normalize\n",
    "    train_x = normalize(train_x, norm='l2')\n",
    "    \n",
    "    test_t_x = normalize(test_t_x, norm='l2')\n",
    "    test_ra_x = normalize(test_ra_x, norm='l2')\n",
    "    test_la_x = normalize(test_la_x, norm='l2')\n",
    "    test_rl_x = normalize(test_rl_x, norm='l2')\n",
    "    test_ll_x = normalize(test_ll_x, norm='l2')\n",
    "    \n",
    "    return (train_x, test_t_x, test_ra_x, test_la_x, test_rl_x, test_ll_x, train_y, test_y)"
   ]
  },
  {
   "cell_type": "code",
   "execution_count": 24,
   "metadata": {
    "collapsed": true
   },
   "outputs": [],
   "source": [
    "(train_x_o, test_t_x_o, test_ra_x_o, test_la_x_o, test_rl_x_o, test_ll_x_o, train_y_o, test_y_o) = preprocess_approach_one_others()"
   ]
  },
  {
   "cell_type": "markdown",
   "metadata": {},
   "source": [
    "### Define all the classifiers"
   ]
  },
  {
   "cell_type": "code",
   "execution_count": 97,
   "metadata": {
    "collapsed": true
   },
   "outputs": [],
   "source": [
    "classifiers = {\n",
    "    \"LogisticRegression\": LogisticRegression(solver='lbfgs', multi_class='multinomial'),\n",
    "    \"KNearest\": KNeighborsClassifier(),\n",
    "    \"Support Vector Classifier\": SVC(),\n",
    "    \"DecisionTreeClassifier\": DecisionTreeClassifier(),\n",
    "    \"Perceptron\": Perceptron(),\n",
    "    \"NaiveBayes\": GaussianNB()\n",
    "}\n",
    "\n",
    "fitted_models = {}"
   ]
  },
  {
   "cell_type": "markdown",
   "metadata": {},
   "source": [
    "### Train and calculate accuracy"
   ]
  },
  {
   "cell_type": "code",
   "execution_count": 98,
   "metadata": {},
   "outputs": [
    {
     "name": "stdout",
     "output_type": "stream",
     "text": [
      "Performance for  LogisticRegression \n",
      " Train score =  0.6849874686716791 \n",
      " Torso Test scores =  0.7315789473684211 \n",
      " RA Test scores =  0.6403508771929824 \n",
      " RL Test scores =  0.7131578947368421 \n",
      " LA Test scores =  0.443859649122807 \n",
      " LL Test scores =  0.22456140350877193 \n",
      "\n",
      "\n",
      "\n",
      "Performance for  KNearest \n",
      " Train score =  0.9608771929824561 \n",
      " Torso Test scores =  0.8166666666666667 \n",
      " RA Test scores =  0.6921052631578948 \n",
      " RL Test scores =  0.7763157894736842 \n",
      " LA Test scores =  0.6789473684210526 \n",
      " LL Test scores =  0.5403508771929825 \n",
      "\n",
      "\n",
      "\n",
      "Performance for  Support Vector Classifier \n",
      " Train score =  0.4889724310776942 \n",
      " Torso Test scores =  0.42543859649122806 \n",
      " RA Test scores =  0.5236842105263158 \n",
      " RL Test scores =  0.7350877192982456 \n",
      " LA Test scores =  0.4964912280701754 \n",
      " LL Test scores =  0.10701754385964912 \n",
      "\n",
      "\n",
      "\n",
      "Performance for  DecisionTreeClassifier \n",
      " Train score =  1.0 \n",
      " Torso Test scores =  0.624561403508772 \n",
      " RA Test scores =  0.7 \n",
      " RL Test scores =  0.5412280701754386 \n",
      " LA Test scores =  0.6070175438596491 \n",
      " LL Test scores =  0.5043859649122807 \n",
      "\n",
      "\n",
      "\n",
      "Performance for  Perceptron \n",
      " Train score =  0.4825062656641604 \n",
      " Torso Test scores =  0.32105263157894737 \n",
      " RA Test scores =  0.4 \n",
      " RL Test scores =  0.4192982456140351 \n",
      " LA Test scores =  0.39210526315789473 \n",
      " LL Test scores =  0.22982456140350876 \n",
      "\n",
      "\n",
      "\n",
      "Performance for  NaiveBayes \n",
      " Train score =  0.6020300751879699 \n",
      " Torso Test scores =  0.6596491228070176 \n",
      " RA Test scores =  0.4570175438596491 \n",
      " RL Test scores =  0.7850877192982456 \n",
      " LA Test scores =  0.4298245614035088 \n",
      " LL Test scores =  0.29035087719298247 \n",
      "\n",
      "\n",
      "\n"
     ]
    }
   ],
   "source": [
    "for key, classifier in classifiers.items():\n",
    "    \n",
    "    fitted_models[key] = classifier.fit(train_x_o, train_y_o)\n",
    "    train_score = classifier.score(train_x_o, train_y_o)\n",
    "    test_t_x_score = classifier.score(test_t_x_o, test_y_o)\n",
    "    test_ra_x_score = classifier.score(test_ra_x_o, test_y_o)\n",
    "    test_la_x_score = classifier.score(test_la_x_o, test_y_o)\n",
    "    test_rl_x_score = classifier.score(test_rl_x_o, test_y_o)\n",
    "    test_ll_x_score = classifier.score(test_ll_x_o, test_y_o)\n",
    "    \n",
    "    print(\"Performance for \", key, \"\\n\", \n",
    "          \"Train score = \", train_score, \"\\n\",\n",
    "          \"Torso Test scores = \", test_t_x_score, \"\\n\",\n",
    "          \"RA Test scores = \", test_ra_x_score, \"\\n\",\n",
    "          \"RL Test scores = \", test_la_x_score, \"\\n\",\n",
    "          \"LA Test scores = \", test_rl_x_score, \"\\n\",\n",
    "          \"LL Test scores = \", test_ll_x_score, \"\\n\",)\n",
    "    \n",
    "    print(\"\\n\")"
   ]
  },
  {
   "cell_type": "markdown",
   "metadata": {},
   "source": [
    "### Save all the models"
   ]
  },
  {
   "cell_type": "code",
   "execution_count": 93,
   "metadata": {
    "collapsed": true
   },
   "outputs": [],
   "source": [
    "def save_models():\n",
    "    import joblib\n",
    "    for key, classifier in fitted_models.items():\n",
    "        filename = key + '.joblib'\n",
    "        joblib.dump(classifier, filename)"
   ]
  },
  {
   "cell_type": "markdown",
   "metadata": {},
   "source": [
    "### Retrieve Models"
   ]
  },
  {
   "cell_type": "code",
   "execution_count": 38,
   "metadata": {
    "collapsed": true
   },
   "outputs": [],
   "source": [
    "def load_models(directory):\n",
    "    import joblib\n",
    "    import glob\n",
    "    loaded_models = {}\n",
    "    path = directory + '*.joblib'\n",
    "    files = glob.glob(path)\n",
    "    for file in files:\n",
    "        clf = joblib.load(file)\n",
    "        key = file.split('/')[-1].split('.')[0]\n",
    "        loaded_models[key] = clf \n",
    "    return loaded_models"
   ]
  },
  {
   "cell_type": "code",
   "execution_count": 43,
   "metadata": {},
   "outputs": [],
   "source": [
    "loaded_models = load_models('models/')"
   ]
  },
  {
   "cell_type": "code",
   "execution_count": 44,
   "metadata": {},
   "outputs": [
    {
     "data": {
      "text/plain": [
       "{'DecisionTreeClassifier': DecisionTreeClassifier(class_weight=None, criterion='gini', max_depth=None,\n",
       "             max_features=None, max_leaf_nodes=None,\n",
       "             min_impurity_decrease=0.0, min_impurity_split=None,\n",
       "             min_samples_leaf=1, min_samples_split=2,\n",
       "             min_weight_fraction_leaf=0.0, presort=False, random_state=None,\n",
       "             splitter='best'),\n",
       " 'KNearest': KNeighborsClassifier(algorithm='auto', leaf_size=30, metric='minkowski',\n",
       "            metric_params=None, n_jobs=1, n_neighbors=5, p=2,\n",
       "            weights='uniform'),\n",
       " 'LogisticRegression': LogisticRegression(C=1.0, class_weight=None, dual=False, fit_intercept=True,\n",
       "           intercept_scaling=1, max_iter=100, multi_class='multinomial',\n",
       "           n_jobs=1, penalty='l2', random_state=None, solver='lbfgs',\n",
       "           tol=0.0001, verbose=0, warm_start=False),\n",
       " 'NaiveBayes': GaussianNB(priors=None),\n",
       " 'Perceptron': Perceptron(alpha=0.0001, class_weight=None, eta0=1.0, fit_intercept=True,\n",
       "       max_iter=None, n_iter=None, n_jobs=1, penalty=None, random_state=0,\n",
       "       shuffle=True, tol=None, verbose=0, warm_start=False),\n",
       " 'Support Vector Classifier': SVC(C=1.0, cache_size=200, class_weight=None, coef0=0.0,\n",
       "   decision_function_shape='ovr', degree=3, gamma='auto', kernel='rbf',\n",
       "   max_iter=-1, probability=False, random_state=None, shrinking=True,\n",
       "   tol=0.001, verbose=False)}"
      ]
     },
     "execution_count": 44,
     "metadata": {},
     "output_type": "execute_result"
    }
   ],
   "source": [
    "loaded_models"
   ]
  },
  {
   "cell_type": "code",
   "execution_count": 47,
   "metadata": {},
   "outputs": [],
   "source": [
    "a = [1,2,2,3,2]"
   ]
  },
  {
   "cell_type": "code",
   "execution_count": 49,
   "metadata": {},
   "outputs": [
    {
     "ename": "TypeError",
     "evalue": "unorderable types: int() < list()",
     "output_type": "error",
     "traceback": [
      "\u001b[0;31m---------------------------------------------------------------------------\u001b[0m",
      "\u001b[0;31mTypeError\u001b[0m                                 Traceback (most recent call last)",
      "\u001b[0;32m<ipython-input-49-6644a7d57542>\u001b[0m in \u001b[0;36m<module>\u001b[0;34m()\u001b[0m\n\u001b[1;32m      1\u001b[0m \u001b[0mresult\u001b[0m \u001b[0;34m=\u001b[0m \u001b[0;34m[\u001b[0m\u001b[0;34m]\u001b[0m\u001b[0;34m\u001b[0m\u001b[0m\n\u001b[1;32m      2\u001b[0m \u001b[0;32mfor\u001b[0m \u001b[0mi\u001b[0m\u001b[0;34m,\u001b[0m \u001b[0mx\u001b[0m \u001b[0;32min\u001b[0m \u001b[0menumerate\u001b[0m\u001b[0;34m(\u001b[0m\u001b[0ma\u001b[0m\u001b[0;34m)\u001b[0m\u001b[0;34m:\u001b[0m\u001b[0;34m\u001b[0m\u001b[0m\n\u001b[0;32m----> 3\u001b[0;31m     \u001b[0;32mif\u001b[0m \u001b[0mx\u001b[0m\u001b[0;34m<\u001b[0m\u001b[0ma\u001b[0m \u001b[0;32mor\u001b[0m \u001b[0mx\u001b[0m\u001b[0;34m>\u001b[0m\u001b[0mb\u001b[0m\u001b[0;34m:\u001b[0m\u001b[0;34m\u001b[0m\u001b[0m\n\u001b[0m\u001b[1;32m      4\u001b[0m         \u001b[0mresult\u001b[0m\u001b[0;34m.\u001b[0m\u001b[0mappend\u001b[0m\u001b[0;34m(\u001b[0m\u001b[0mi\u001b[0m\u001b[0;34m)\u001b[0m\u001b[0;34m\u001b[0m\u001b[0m\n\u001b[1;32m      5\u001b[0m \u001b[0mresult\u001b[0m\u001b[0;34m\u001b[0m\u001b[0m\n",
      "\u001b[0;31mTypeError\u001b[0m: unorderable types: int() < list()"
     ]
    }
   ],
   "source": [
    "result = []\n",
    "for i, x in enumerate(a):\n",
    "    if x < a or x > b:\n",
    "        result.append(i)\n",
    "result"
   ]
  },
  {
   "cell_type": "code",
   "execution_count": 50,
   "metadata": {
    "collapsed": true
   },
   "outputs": [],
   "source": []
  },
  {
   "cell_type": "code",
   "execution_count": 53,
   "metadata": {},
   "outputs": [
    {
     "data": {
      "text/plain": [
       "(array([1, 2, 5]),)"
      ]
     },
     "execution_count": 53,
     "metadata": {},
     "output_type": "execute_result"
    }
   ],
   "source": [
    "np.where((b == np.amax(b)))"
   ]
  },
  {
   "cell_type": "code",
   "execution_count": 54,
   "metadata": {
    "collapsed": true
   },
   "outputs": [],
   "source": [
    "from collections import Counter"
   ]
  },
  {
   "cell_type": "code",
   "execution_count": 55,
   "metadata": {
    "collapsed": true
   },
   "outputs": [],
   "source": [
    "b = np.array([1,2,2,1,1,2])"
   ]
  },
  {
   "cell_type": "code",
   "execution_count": 56,
   "metadata": {
    "collapsed": true
   },
   "outputs": [],
   "source": [
    "b = Counter(b)"
   ]
  },
  {
   "cell_type": "code",
   "execution_count": 57,
   "metadata": {},
   "outputs": [
    {
     "data": {
      "text/plain": [
       "Counter({1: 3, 2: 3})"
      ]
     },
     "execution_count": 57,
     "metadata": {},
     "output_type": "execute_result"
    }
   ],
   "source": [
    "b"
   ]
  },
  {
   "cell_type": "code",
   "execution_count": null,
   "metadata": {
    "collapsed": true
   },
   "outputs": [],
   "source": []
  }
 ],
 "metadata": {
  "kernelspec": {
   "display_name": "Python 3",
   "language": "python",
   "name": "python3"
  },
  "language_info": {
   "codemirror_mode": {
    "name": "ipython",
    "version": 3
   },
   "file_extension": ".py",
   "mimetype": "text/x-python",
   "name": "python",
   "nbconvert_exporter": "python",
   "pygments_lexer": "ipython3",
   "version": "3.5.4"
  }
 },
 "nbformat": 4,
 "nbformat_minor": 2
}
