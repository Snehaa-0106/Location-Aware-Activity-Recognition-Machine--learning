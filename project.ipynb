{
 "cells": [
  {
   "cell_type": "code",
   "execution_count": 1,
   "metadata": {},
   "outputs": [],
   "source": [
    "import math\n",
    "import numpy as np\n",
    "import pandas as pd\n",
    "import seaborn as sns\n",
    "import matplotlib.pyplot as plt\n",
    "from sklearn.preprocessing import scale\n",
    "from sklearn.preprocessing import normalize\n",
    "%matplotlib inline"
   ]
  },
  {
   "cell_type": "markdown",
   "metadata": {},
   "source": [
    "# Data Visulization"
   ]
  },
  {
   "cell_type": "code",
   "execution_count": 2,
   "metadata": {},
   "outputs": [],
   "source": [
    "def create_dataframe(path):\n",
    "    feature_names = []\n",
    "    for unit_label in [\"T\", \"RA\", \"LA\", \"RL\", \"LL\"]:\n",
    "        for sensor  in [\"acc\",\"gyro\",\"mag\"]:\n",
    "            for position in ['X','Y','Z']:\n",
    "                feature_names.append(unit_label + \"_\" + position + sensor)\n",
    "\n",
    "    return pd.read_csv(path, names = feature_names)"
   ]
  },
  {
   "cell_type": "code",
   "execution_count": 3,
   "metadata": {},
   "outputs": [],
   "source": [
    "sit_df = create_dataframe('../data/a01/p1/s01.txt')\n",
    "walk_df = create_dataframe('../data/a09/p1/s01.txt')\n",
    "jump_df = create_dataframe('../data/a18/p1/s01.txt')"
   ]
  },
  {
   "cell_type": "code",
   "execution_count": 4,
   "metadata": {},
   "outputs": [
    {
     "data": {
      "text/html": [
       "<div>\n",
       "<style scoped>\n",
       "    .dataframe tbody tr th:only-of-type {\n",
       "        vertical-align: middle;\n",
       "    }\n",
       "\n",
       "    .dataframe tbody tr th {\n",
       "        vertical-align: top;\n",
       "    }\n",
       "\n",
       "    .dataframe thead th {\n",
       "        text-align: right;\n",
       "    }\n",
       "</style>\n",
       "<table border=\"1\" class=\"dataframe\">\n",
       "  <thead>\n",
       "    <tr style=\"text-align: right;\">\n",
       "      <th></th>\n",
       "      <th>T_Xacc</th>\n",
       "      <th>T_Yacc</th>\n",
       "      <th>T_Zacc</th>\n",
       "      <th>T_Xgyro</th>\n",
       "      <th>T_Ygyro</th>\n",
       "      <th>T_Zgyro</th>\n",
       "      <th>T_Xmag</th>\n",
       "      <th>T_Ymag</th>\n",
       "      <th>T_Zmag</th>\n",
       "      <th>RA_Xacc</th>\n",
       "      <th>...</th>\n",
       "      <th>RL_Zmag</th>\n",
       "      <th>LL_Xacc</th>\n",
       "      <th>LL_Yacc</th>\n",
       "      <th>LL_Zacc</th>\n",
       "      <th>LL_Xgyro</th>\n",
       "      <th>LL_Ygyro</th>\n",
       "      <th>LL_Zgyro</th>\n",
       "      <th>LL_Xmag</th>\n",
       "      <th>LL_Ymag</th>\n",
       "      <th>LL_Zmag</th>\n",
       "    </tr>\n",
       "  </thead>\n",
       "  <tbody>\n",
       "    <tr>\n",
       "      <th>0</th>\n",
       "      <td>8.1305</td>\n",
       "      <td>1.0349</td>\n",
       "      <td>5.4217</td>\n",
       "      <td>-0.009461</td>\n",
       "      <td>0.001915</td>\n",
       "      <td>-0.003424</td>\n",
       "      <td>-0.78712</td>\n",
       "      <td>-0.069654</td>\n",
       "      <td>0.15730</td>\n",
       "      <td>0.70097</td>\n",
       "      <td>...</td>\n",
       "      <td>-0.036453</td>\n",
       "      <td>-2.8071</td>\n",
       "      <td>-9.0812</td>\n",
       "      <td>2.6220</td>\n",
       "      <td>-0.000232</td>\n",
       "      <td>-0.012092</td>\n",
       "      <td>-0.004457</td>\n",
       "      <td>0.74017</td>\n",
       "      <td>0.30053</td>\n",
       "      <td>-0.057730</td>\n",
       "    </tr>\n",
       "    <tr>\n",
       "      <th>1</th>\n",
       "      <td>8.1305</td>\n",
       "      <td>1.0202</td>\n",
       "      <td>5.3843</td>\n",
       "      <td>-0.009368</td>\n",
       "      <td>0.023485</td>\n",
       "      <td>0.001953</td>\n",
       "      <td>-0.78717</td>\n",
       "      <td>-0.068275</td>\n",
       "      <td>0.15890</td>\n",
       "      <td>0.71829</td>\n",
       "      <td>...</td>\n",
       "      <td>-0.034005</td>\n",
       "      <td>-2.8146</td>\n",
       "      <td>-9.0737</td>\n",
       "      <td>2.6218</td>\n",
       "      <td>-0.014784</td>\n",
       "      <td>-0.016477</td>\n",
       "      <td>0.002789</td>\n",
       "      <td>0.73937</td>\n",
       "      <td>0.30183</td>\n",
       "      <td>-0.057514</td>\n",
       "    </tr>\n",
       "    <tr>\n",
       "      <th>2</th>\n",
       "      <td>8.1604</td>\n",
       "      <td>1.0201</td>\n",
       "      <td>5.3622</td>\n",
       "      <td>0.015046</td>\n",
       "      <td>0.014330</td>\n",
       "      <td>0.000204</td>\n",
       "      <td>-0.78664</td>\n",
       "      <td>-0.068277</td>\n",
       "      <td>0.15879</td>\n",
       "      <td>0.69849</td>\n",
       "      <td>...</td>\n",
       "      <td>-0.036489</td>\n",
       "      <td>-2.8221</td>\n",
       "      <td>-9.0886</td>\n",
       "      <td>2.6366</td>\n",
       "      <td>-0.012770</td>\n",
       "      <td>0.005717</td>\n",
       "      <td>-0.007918</td>\n",
       "      <td>0.73955</td>\n",
       "      <td>0.30052</td>\n",
       "      <td>-0.057219</td>\n",
       "    </tr>\n",
       "    <tr>\n",
       "      <th>3</th>\n",
       "      <td>8.1603</td>\n",
       "      <td>1.0052</td>\n",
       "      <td>5.3770</td>\n",
       "      <td>0.006892</td>\n",
       "      <td>0.018045</td>\n",
       "      <td>0.005649</td>\n",
       "      <td>-0.78529</td>\n",
       "      <td>-0.069849</td>\n",
       "      <td>0.15912</td>\n",
       "      <td>0.72799</td>\n",
       "      <td>...</td>\n",
       "      <td>-0.036151</td>\n",
       "      <td>-2.8071</td>\n",
       "      <td>-9.0811</td>\n",
       "      <td>2.6070</td>\n",
       "      <td>-0.005725</td>\n",
       "      <td>0.009620</td>\n",
       "      <td>0.006555</td>\n",
       "      <td>0.74029</td>\n",
       "      <td>0.30184</td>\n",
       "      <td>-0.057750</td>\n",
       "    </tr>\n",
       "    <tr>\n",
       "      <th>4</th>\n",
       "      <td>8.1605</td>\n",
       "      <td>1.0275</td>\n",
       "      <td>5.3473</td>\n",
       "      <td>0.008811</td>\n",
       "      <td>0.030433</td>\n",
       "      <td>-0.005346</td>\n",
       "      <td>-0.78742</td>\n",
       "      <td>-0.068796</td>\n",
       "      <td>0.15916</td>\n",
       "      <td>0.71572</td>\n",
       "      <td>...</td>\n",
       "      <td>-0.033807</td>\n",
       "      <td>-2.8146</td>\n",
       "      <td>-9.0737</td>\n",
       "      <td>2.6218</td>\n",
       "      <td>-0.003929</td>\n",
       "      <td>-0.008371</td>\n",
       "      <td>0.002816</td>\n",
       "      <td>0.73845</td>\n",
       "      <td>0.30090</td>\n",
       "      <td>-0.057527</td>\n",
       "    </tr>\n",
       "  </tbody>\n",
       "</table>\n",
       "<p>5 rows × 45 columns</p>\n",
       "</div>"
      ],
      "text/plain": [
       "   T_Xacc  T_Yacc  T_Zacc   T_Xgyro   T_Ygyro   T_Zgyro   T_Xmag    T_Ymag  \\\n",
       "0  8.1305  1.0349  5.4217 -0.009461  0.001915 -0.003424 -0.78712 -0.069654   \n",
       "1  8.1305  1.0202  5.3843 -0.009368  0.023485  0.001953 -0.78717 -0.068275   \n",
       "2  8.1604  1.0201  5.3622  0.015046  0.014330  0.000204 -0.78664 -0.068277   \n",
       "3  8.1603  1.0052  5.3770  0.006892  0.018045  0.005649 -0.78529 -0.069849   \n",
       "4  8.1605  1.0275  5.3473  0.008811  0.030433 -0.005346 -0.78742 -0.068796   \n",
       "\n",
       "    T_Zmag  RA_Xacc    ...      RL_Zmag  LL_Xacc  LL_Yacc  LL_Zacc  LL_Xgyro  \\\n",
       "0  0.15730  0.70097    ...    -0.036453  -2.8071  -9.0812   2.6220 -0.000232   \n",
       "1  0.15890  0.71829    ...    -0.034005  -2.8146  -9.0737   2.6218 -0.014784   \n",
       "2  0.15879  0.69849    ...    -0.036489  -2.8221  -9.0886   2.6366 -0.012770   \n",
       "3  0.15912  0.72799    ...    -0.036151  -2.8071  -9.0811   2.6070 -0.005725   \n",
       "4  0.15916  0.71572    ...    -0.033807  -2.8146  -9.0737   2.6218 -0.003929   \n",
       "\n",
       "   LL_Ygyro  LL_Zgyro  LL_Xmag  LL_Ymag   LL_Zmag  \n",
       "0 -0.012092 -0.004457  0.74017  0.30053 -0.057730  \n",
       "1 -0.016477  0.002789  0.73937  0.30183 -0.057514  \n",
       "2  0.005717 -0.007918  0.73955  0.30052 -0.057219  \n",
       "3  0.009620  0.006555  0.74029  0.30184 -0.057750  \n",
       "4 -0.008371  0.002816  0.73845  0.30090 -0.057527  \n",
       "\n",
       "[5 rows x 45 columns]"
      ]
     },
     "execution_count": 4,
     "metadata": {},
     "output_type": "execute_result"
    }
   ],
   "source": [
    "sit_df.head()"
   ]
  },
  {
   "cell_type": "markdown",
   "metadata": {},
   "source": [
    "### Visualize accelerometer readings for sitting"
   ]
  },
  {
   "cell_type": "code",
   "execution_count": 5,
   "metadata": {},
   "outputs": [
    {
     "data": {
      "image/png": "[encoded data removed]",
      "text/plain": [
       "<Figure size 1152x360 with 1 Axes>"
      ]
     },
     "metadata": {
      "needs_background": "light"
     },
     "output_type": "display_data"
    }
   ],
   "source": [
    "ax = sit_df[[\"LL_Xacc\", \"LL_Yacc\", \"LL_Zacc\"]].plot(title = \"Sitting (X,Y,Z) Left Leg Acceleration vs. Time\", figsize=(16,5));\n",
    "ax.set_xlabel(\"Time (seconds)\")\n",
    "ax.set_ylabel(\"Acceleration\");\n",
    "plt.show()"
   ]
  },
  {
   "cell_type": "markdown",
   "metadata": {},
   "source": [
    "### Visualize accelerometer readings for jumping"
   ]
  },
  {
   "cell_type": "code",
   "execution_count": 6,
   "metadata": {},
   "outputs": [
    {
     "data": {
      "image/png": "[encoded data removed]",
      "text/plain": [
       "<Figure size 1152x360 with 1 Axes>"
      ]
     },
     "metadata": {
      "needs_background": "light"
     },
     "output_type": "display_data"
    }
   ],
   "source": [
    "ax = jump_df[[\"T_Xacc\", \"T_Yacc\", \"T_Zacc\"]].plot(title = \"Jumping (X,Y,Z) Torso Acceleration vs. Time\", figsize=(16,5));\n",
    "ax.set_xlabel(\"Time (seconds)\")\n",
    "ax.set_ylabel(\"Acceleration\");\n",
    "plt.show()"
   ]
  },
  {
   "cell_type": "markdown",
   "metadata": {},
   "source": [
    "### Visualize accelerometer readings for walking"
   ]
  },
  {
   "cell_type": "code",
   "execution_count": 7,
   "metadata": {},
   "outputs": [
    {
     "data": {
      "image/png": "[encoded data removed]",
      "text/plain": [
       "<Figure size 1152x360 with 1 Axes>"
      ]
     },
     "metadata": {
      "needs_background": "light"
     },
     "output_type": "display_data"
    }
   ],
   "source": [
    "ax = walk_df[[\"LL_Xacc\", \"LL_Yacc\", \"LL_Zacc\"]].plot(title = \"Walking (X,Y,Z) Left Leg Acceleration vs. Time\", figsize=(16,5));\n",
    "ax.set_xlabel(\"Time (seconds)\")\n",
    "ax.set_ylabel(\"Acceleration\");\n",
    "plt.show()"
   ]
  },
  {
   "cell_type": "markdown",
   "metadata": {},
   "source": [
    "# Feature Extraction"
   ]
  },
  {
   "cell_type": "code",
   "execution_count": 8,
   "metadata": {},
   "outputs": [],
   "source": [
    "def generate_file_names():\n",
    "    file_list = []\n",
    "    for activities in range(19):\n",
    "        for person in range(8):\n",
    "            for segments in range(60):\n",
    "                file_list.append('../data/' +\n",
    "                                 'a' + str(activities + 1).zfill(2) + '/'\n",
    "                                 'p' + str(person + 1) + '/'\n",
    "                                 's' + str(segments + 1).zfill(2) + '.txt'\n",
    "                                )\n",
    "\n",
    "    return file_list"
   ]
  },
  {
   "cell_type": "code",
   "execution_count": 9,
   "metadata": {},
   "outputs": [],
   "source": [
    "def extract_features(x):\n",
    "    numrows = len(x)\n",
    "    mean = np.mean(x, axis = 0)\n",
    "    std = np.std(x, axis = 0)\n",
    "    var = np.var(x, axis = 0)\n",
    "    median = np.median(x, axis = 0)\n",
    "    xmax = np.amax(x, axis = 0)\n",
    "    xmin = np.amin(x, axis = 0)\n",
    "    p2p = xmax - xmin\n",
    "    amp = xmax - mean\n",
    "    s2e = x[numrows-1,:] - x[0,:]\n",
    "    features = np.concatenate([mean, std, var, median, xmax, xmin, p2p, amp, s2e])\n",
    "    return features"
   ]
  },
  {
   "cell_type": "code",
   "execution_count": 10,
   "metadata": {},
   "outputs": [],
   "source": [
    "def data_generate():\n",
    "    filenames = generate_file_names()\n",
    "    feature_cols = []\n",
    "    for unit_label in ['T', 'RA', 'LA', 'RL', 'LL']:\n",
    "        for feature in ['mean', 'std', 'var', 'median', 'xmax', 'xmin', 'p2p', 'amp', 's2e']:\n",
    "            for sensor  in ['acc', 'gyro', 'mag']:\n",
    "                for position in ['X', 'Y', 'Z']:\n",
    "                    feature_cols.append(feature + '_' + unit_label + '_' + position + sensor)\n",
    "    activity_data = pd.DataFrame(columns=feature_cols)\n",
    "    data = []\n",
    "    activity = []\n",
    "    person = []\n",
    "    for i in range(len(filenames)):\n",
    "        activity.append('a' + str(i // 480 + 1).zfill(2))\n",
    "        person.append('p' + str((i // 60) % 8 + 1))\n",
    "        raw_data = np.genfromtxt(filenames[i], delimiter = ',', skip_header = 0)\n",
    "        row = extract_features(raw_data)\n",
    "        data.append(row)\n",
    "    #data = scale(data, axis = 0)\n",
    "    activity_data = pd.DataFrame(data, columns = feature_cols)\n",
    "    activity_data['person'] = person\n",
    "    activity_data['activity'] = activity\n",
    "    return activity_data"
   ]
  },
  {
   "cell_type": "markdown",
   "metadata": {},
   "source": [
    "# Preprocess Data"
   ]
  },
  {
   "cell_type": "code",
   "execution_count": 11,
   "metadata": {},
   "outputs": [],
   "source": [
    "def preprocess_approach_one():\n",
    "    df = pd.read_csv('data/data.csv')\n",
    "    train_df = df.loc[df['person'] != 'p8']\n",
    "    test_df = df.loc[df['person'] == 'p8']\n",
    "\n",
    "    train_x = np.vstack((train_df.iloc[:, 0:81].values, \n",
    "                         train_df.iloc[:, 81:162].values, \n",
    "                         train_df.iloc[:, 162:243].values, \n",
    "                         train_df.iloc[:, 243:324].values, \n",
    "                         train_df.iloc[:, 324:405].values))\n",
    "    \n",
    "    train_y = np.vstack((train_df['activity'].str.get_dummies().values,\n",
    "                         train_df['activity'].str.get_dummies().values,\n",
    "                         train_df['activity'].str.get_dummies().values,\n",
    "                         train_df['activity'].str.get_dummies().values,\n",
    "                         train_df['activity'].str.get_dummies().values))\n",
    "    \n",
    "    test_t_x = test_df.iloc[:, 0:81].values\n",
    "    test_ra_x = test_df.iloc[:, 81:162].values\n",
    "    test_la_x = test_df.iloc[:, 162:243].values\n",
    "    test_rl_x = test_df.iloc[:, 243:324].values\n",
    "    test_ll_x = test_df.iloc[:, 324:405].values\n",
    "    \n",
    "    test_y = test_df['activity'].str.get_dummies().values\n",
    "    \n",
    "    # Normalize\n",
    "    train_x = normalize(train_x, norm='l2')\n",
    "    \n",
    "    test_t_x = normalize(test_t_x, norm='l2')\n",
    "    test_ra_x = normalize(test_ra_x, norm='l2')\n",
    "    test_la_x = normalize(test_la_x, norm='l2')\n",
    "    test_rl_x = normalize(test_rl_x, norm='l2')\n",
    "    test_ll_x = normalize(test_ll_x, norm='l2')\n",
    "    \n",
    "    # Expand dimensions\n",
    "    train_x = np.expand_dims(train_x, axis = 1)\n",
    "    \n",
    "    test_t_x = np.expand_dims(test_t_x, axis = 1)\n",
    "    test_ra_x = np.expand_dims(test_ra_x, axis = 1)\n",
    "    test_la_x = np.expand_dims(test_la_x, axis = 1)\n",
    "    test_rl_x = np.expand_dims(test_rl_x, axis = 1)\n",
    "    test_ll_x = np.expand_dims(test_ll_x, axis = 1)\n",
    "    \n",
    "    return (train_x, test_t_x, test_ra_x, test_la_x, test_rl_x, test_ll_x, train_y, test_y)"
   ]
  },
  {
   "cell_type": "code",
   "execution_count": 12,
   "metadata": {},
   "outputs": [],
   "source": [
    "(train_x_one, test_t_x_one, test_ra_x_one, test_la_x_one, test_rl_x_one, test_ll_x_one, train_y_one, test_y_one) = preprocess_approach_one()"
   ]
  },
  {
   "cell_type": "code",
   "execution_count": 13,
   "metadata": {},
   "outputs": [],
   "source": [
    "def preprocess_approach_two():\n",
    "    df = pd.read_csv('data/data.csv')\n",
    "    train_df = df.loc[df['person'] != 'p8']\n",
    "    test_df = df.loc[df['person'] == 'p8']\n",
    "    \n",
    "    # Train x values\n",
    "    train_t_x = train_df.iloc[:, 0:81].values\n",
    "    train_ra_x = train_df.iloc[:, 81:162].values\n",
    "    train_la_x = train_df.iloc[:, 162:243].values\n",
    "    train_rl_x = train_df.iloc[:, 243:324].values\n",
    "    train_ll_x = train_df.iloc[:, 324:405].values\n",
    "    \n",
    "    # Test x values\n",
    "    test_t_x = test_df.iloc[:, 0:81].values\n",
    "    test_ra_x = test_df.iloc[:, 81:162].values\n",
    "    test_la_x = test_df.iloc[:, 162:243].values\n",
    "    test_rl_x = test_df.iloc[:, 243:324].values\n",
    "    test_ll_x = test_df.iloc[:, 324:405].values\n",
    "    \n",
    "     # Normalize\n",
    "    train_t_x = normalize(train_t_x, norm='l2')\n",
    "    train_ra_x = normalize(train_ra_x, norm='l2')\n",
    "    train_la_x = normalize(train_la_x, norm='l2')\n",
    "    train_rl_x = normalize(train_rl_x, norm='l2')\n",
    "    train_ll_x = normalize(train_ll_x, norm='l2')\n",
    "    \n",
    "    test_t_x = normalize(test_t_x, norm='l2')\n",
    "    test_ra_x = normalize(test_ra_x, norm='l2')\n",
    "    test_la_x = normalize(test_la_x, norm='l2')\n",
    "    test_rl_x = normalize(test_rl_x, norm='l2')\n",
    "    test_ll_x = normalize(test_ll_x, norm='l2')\n",
    "    \n",
    "    # Expand dimensions\n",
    "    train_t_x = np.expand_dims(train_t_x, axis = 1)\n",
    "    train_ra_x = np.expand_dims(train_ra_x, axis = 1)\n",
    "    train_la_x = np.expand_dims(train_la_x, axis = 1)\n",
    "    train_rl_x = np.expand_dims(train_rl_x, axis = 1)\n",
    "    train_ll_x = np.expand_dims(train_ll_x, axis = 1)\n",
    "    \n",
    "    test_t_x = np.expand_dims(test_t_x, axis = 1)\n",
    "    test_ra_x = np.expand_dims(test_ra_x, axis = 1)\n",
    "    test_la_x = np.expand_dims(test_la_x, axis = 1)\n",
    "    test_rl_x = np.expand_dims(test_rl_x, axis = 1)\n",
    "    test_ll_x = np.expand_dims(test_ll_x, axis = 1)\n",
    "    \n",
    "    # Y labels for train\n",
    "    train_y = train_df['activity'].str.get_dummies().values\n",
    "    \n",
    "    # Y labels for test\n",
    "    test_y = test_df['activity'].str.get_dummies().values\n",
    "    \n",
    "    return (train_t_x, train_ra_x, train_la_x, train_rl_x, train_ll_x, test_t_x, test_ra_x, test_la_x, test_rl_x, test_ll_x, train_y, test_y)\n",
    "    "
   ]
  },
  {
   "cell_type": "code",
   "execution_count": 14,
   "metadata": {},
   "outputs": [],
   "source": [
    "(train_t_x, train_ra_x, train_la_x, train_rl_x, train_ll_x, test_t_x, test_ra_x, test_la_x, test_rl_x, test_ll_x, train_y, test_y) = preprocess_approach_two()"
   ]
  },
  {
   "cell_type": "code",
   "execution_count": 15,
   "metadata": {},
   "outputs": [],
   "source": [
    "def preprocess_regular():\n",
    "    data = pd.read_csv('data/data.csv')\n",
    "    \n",
    "    train = data.loc[data['person'] != 'p8']\n",
    "    test = data.loc[data['person'] == 'p8']\n",
    "    train = train.drop(['person'], axis = 1)\n",
    "    test = test.drop(['person'], axis = 1)\n",
    "    train_x = train.iloc[:, :-1].values\n",
    "    train_y = train.iloc[:, -1].values\n",
    "    test_x = test.iloc[:, :-1].values\n",
    "    test_y = test.iloc[:, -1].values\n",
    "    \n",
    "    train_y = train['activity'].str.get_dummies().values\n",
    "    test_y = test['activity'].str.get_dummies().values\n",
    "    \n",
    "    train_x = np.expand_dims(train_x, axis = 1)\n",
    "    test_x = np.expand_dims(test_x, axis = 1)\n",
    "    \n",
    "    return(train_x, train_y, test_x, test_y)"
   ]
  },
  {
   "cell_type": "code",
   "execution_count": 16,
   "metadata": {},
   "outputs": [],
   "source": [
    "(train_x_n, train_y_n, test_x_n, test_y_n) = preprocess_regular()"
   ]
  },
  {
   "cell_type": "markdown",
   "metadata": {},
   "source": [
    "# CNN Model"
   ]
  },
  {
   "cell_type": "code",
   "execution_count": 17,
   "metadata": {},
   "outputs": [
    {
     "name": "stderr",
     "output_type": "stream",
     "text": [
      "Using TensorFlow backend.\n"
     ]
    }
   ],
   "source": [
    "from keras.models import Sequential\n",
    "from keras.layers import Conv1D\n",
    "from keras.layers import MaxPool1D\n",
    "from keras.layers import BatchNormalization\n",
    "from keras.layers import Dropout\n",
    "from keras.layers import Dense\n",
    "from keras.layers import Flatten\n",
    "from keras.layers import Activation\n",
    "from keras.layers import BatchNormalization\n",
    "from keras.layers import LSTM\n",
    "from keras.callbacks import LearningRateScheduler"
   ]
  },
  {
   "cell_type": "code",
   "execution_count": 18,
   "metadata": {},
   "outputs": [],
   "source": [
    "def schedule_rate(epoch):\n",
    "    if epoch > 75:\n",
    "        return 0.0005\n",
    "    elif epoch > 100:\n",
    "        return 0.0003       \n",
    "    return 0.001"
   ]
  },
  {
   "cell_type": "code",
   "execution_count": 19,
   "metadata": {},
   "outputs": [],
   "source": [
    "def deep_network(input_shape, output_shape):\n",
    "    model = Sequential()\n",
    "    \n",
    "    model.add(Conv1D(filters = 32, kernel_size = 3, input_shape = input_shape, data_format='channels_first'))\n",
    "    model.add(Activation('relu'))\n",
    "    model.add(BatchNormalization())\n",
    "    model.add(MaxPool1D(pool_size = 2))\n",
    "    model.add(Dropout(0.2))\n",
    "\n",
    "    model.add(Conv1D(filters = 64, kernel_size = 3))\n",
    "    model.add(Activation('relu'))\n",
    "    model.add(BatchNormalization())\n",
    "    model.add(MaxPool1D(pool_size = 2))\n",
    "    model.add(Dropout(0.3))\n",
    "    \n",
    "    model.add(LSTM(128, return_sequences=True, input_shape = input_shape))\n",
    "    model.add(LSTM(128))\n",
    "    \n",
    "    model.add(Dense(128, activation='relu'))\n",
    "    model.add(Dropout(0.4))\n",
    "    model.add(Dense(256, activation='relu'))\n",
    "    model.add(Dropout(0.4))\n",
    "    model.add(Dense(512, activation='relu'))\n",
    "    model.add(Dropout(0.4))\n",
    "    model.add(Dense(output_shape, activation = 'softmax'))\n",
    "    \n",
    "    model.compile(optimizer = 'adam', loss = 'categorical_crossentropy', metrics = ['accuracy'])\n",
    "              \n",
    "    return model"
   ]
  },
  {
   "cell_type": "markdown",
   "metadata": {},
   "source": [
    "### Approach 1"
   ]
  },
  {
   "cell_type": "code",
   "execution_count": 20,
   "metadata": {},
   "outputs": [],
   "source": [
    "model_one = deep_network((1, 81), 19)"
   ]
  },
  {
   "cell_type": "code",
   "execution_count": 21,
   "metadata": {},
   "outputs": [
    {
     "name": "stdout",
     "output_type": "stream",
     "text": [
      "Epoch 1/10\n",
      "39900/39900 [==============================] - 62s 2ms/step - loss: 1.2319 - acc: 0.5518\n",
      "Epoch 2/10\n",
      "39900/39900 [==============================] - 53s 1ms/step - loss: 0.6564 - acc: 0.7633\n",
      "Epoch 3/10\n",
      "39900/39900 [==============================] - 53s 1ms/step - loss: 0.5197 - acc: 0.8229\n",
      "Epoch 4/10\n",
      "39900/39900 [==============================] - 53s 1ms/step - loss: 0.4342 - acc: 0.8574\n",
      "Epoch 5/10\n",
      "39900/39900 [==============================] - 54s 1ms/step - loss: 0.3871 - acc: 0.8787\n",
      "Epoch 6/10\n",
      "39900/39900 [==============================] - 57s 1ms/step - loss: 0.3578 - acc: 0.8871\n",
      "Epoch 7/10\n",
      "39900/39900 [==============================] - 53s 1ms/step - loss: 0.3224 - acc: 0.8999\n",
      "Epoch 8/10\n",
      "39900/39900 [==============================] - 54s 1ms/step - loss: 0.3079 - acc: 0.9055\n",
      "Epoch 9/10\n",
      "39900/39900 [==============================] - 52s 1ms/step - loss: 0.2825 - acc: 0.9149\n",
      "Epoch 10/10\n",
      "39900/39900 [==============================] - 54s 1ms/step - loss: 0.2696 - acc: 0.9186\n"
     ]
    }
   ],
   "source": [
    "history_app_one = model_one.fit(x = train_x_one, y = train_y_one, epochs = 10)"
   ]
  },
  {
   "cell_type": "code",
   "execution_count": 30,
   "metadata": {},
   "outputs": [
    {
     "name": "stdout",
     "output_type": "stream",
     "text": [
      "1140/1140 [==============================] - 1s 1ms/step\n",
      "1140/1140 [==============================] - 1s 792us/step\n",
      "1140/1140 [==============================] - 1s 595us/step\n",
      "1140/1140 [==============================] - 1s 585us/step\n",
      "1140/1140 [==============================] - 1s 559us/step\n",
      "For  Torso  accuracy is  0.8315789473684211\n",
      "For  Right arm  accuracy is  0.6912280701754386\n",
      "For  Left arm  accuracy is  0.8052631578947368\n",
      "For  Right leg  accuracy is  0.76403508730102\n",
      "For  Left leg  accuracy is  0.630701754595104\n"
     ]
    }
   ],
   "source": [
    "t_score_one = model_one.evaluate(test_t_x_one, test_y_one)\n",
    "ra_score_one = model_one.evaluate(test_ra_x_one, test_y_one)\n",
    "la_score_one = model_one.evaluate(test_la_x_one, test_y_one)\n",
    "rl_score_one = model_one.evaluate(test_rl_x_one, test_y_one)\n",
    "ll_score_one = model_one.evaluate(test_ll_x_one, test_y_one)\n",
    "\n",
    "app_one_scores = dict(zip(('Torso', 'Right arm', 'Left arm', 'Right leg', 'Left leg'), \n",
    "                     (t_score_one, ra_score_one, la_score_one, rl_score_one, ll_score_one)))\n",
    "\n",
    "for position, scores in app_one_scores.items():\n",
    "    print(\"For \", position, \" accuracy is \", scores[1])"
   ]
  },
  {
   "cell_type": "markdown",
   "metadata": {},
   "source": [
    "### Approach 2"
   ]
  },
  {
   "cell_type": "code",
   "execution_count": 31,
   "metadata": {},
   "outputs": [],
   "source": [
    "model_t_two = deep_network((1, 81), 19)\n",
    "model_ra_two = deep_network((1, 81), 19)\n",
    "model_la_two = deep_network((1, 81), 19)\n",
    "model_rl_two = deep_network((1, 81), 19)\n",
    "model_ll_two = deep_network((1, 81), 19)"
   ]
  },
  {
   "cell_type": "code",
   "execution_count": null,
   "metadata": {},
   "outputs": [],
   "source": [
    "model_t_two.fit(x = train_t_x, y = train_y, epochs = 100)\n",
    "model_ra_two.fit(x = train_ra_x, y = train_y, epochs = 100)\n",
    "model_la_two.fit(x = train_la_x, y = train_y, epochs = 100)\n",
    "model_rl_two.fit(x = train_rl_x, y = train_y, epochs = 100)\n",
    "model_ll_two.fit(x = train_ll_x, y = train_y, epochs = 100)"
   ]
  },
  {
   "cell_type": "markdown",
   "metadata": {},
   "source": [
    "### Max Probability Approach"
   ]
  },
  {
   "cell_type": "code",
   "execution_count": 26,
   "metadata": {},
   "outputs": [],
   "source": [
    "def get_score(model_t, model_ra, model_la, model_rl, model_ll, test_x, test_y):\n",
    "    predictions_t = model_t.predict(test_x)\n",
    "    predictions_ra = model_ra.predict(test_x)\n",
    "    predictions_la = model_la.predict(test_x)\n",
    "    predictions_rl = model_rl.predict(test_x)\n",
    "    predictions_ll = model_ll.predict(test_x)\n",
    "    \n",
    "    predictions = []\n",
    "    true = []\n",
    "    \n",
    "    for i in range(len(test_y)):\n",
    "        p1 = np.max(predictions_t[i])\n",
    "        p2 = np.max(predictions_ra[i])\n",
    "        p3 = np.max(predictions_la[i])\n",
    "        p4 = np.max(predictions_rl[i])\n",
    "        p5 = np.max(predictions_ll[i])\n",
    "        \n",
    "        preds = np.array((p1, p2, p3, p4, p5))\n",
    "        \n",
    "        if(np.argmax(preds) == 0):\n",
    "            predictions.append(np.argmax(predictions_t[i]))\n",
    "        elif(np.argmax(preds) == 1):\n",
    "            predictions.append(np.argmax(predictions_ra[i]))\n",
    "        elif(np.argmax(preds) == 2):\n",
    "            predictions.append(np.argmax(predictions_la[i]))\n",
    "        elif(np.argmax(preds) == 3):\n",
    "            predictions.append(np.argmax(predictions_rl[i]))\n",
    "        elif(np.argmax(preds) == 4):\n",
    "            predictions.append(np.argmax(predictions_ll[i]))\n",
    "            \n",
    "        true.append(np.argmax((test_y[i])))\n",
    "    \n",
    "    predictions = np.asarray(predictions)\n",
    "    true = np.asarray(true)\n",
    "    \n",
    "    correct = np.where((predictions == true))\n",
    "    total_correct = len(correct[0])\n",
    "    \n",
    "    accuracy = total_correct / len(test_y)\n",
    "    return accuracy"
   ]
  },
  {
   "cell_type": "code",
   "execution_count": 33,
   "metadata": {},
   "outputs": [
    {
     "name": "stdout",
     "output_type": "stream",
     "text": [
      "For  Torso  accuracy is  0.7640350877192983\n",
      "For  Right arm  accuracy is  0.6\n",
      "For  Left arm  accuracy is  0.5114035087719299\n",
      "For  Right leg  accuracy is  0.4324561403508772\n",
      "For  Left leg  accuracy is  0.20877192982456141\n"
     ]
    }
   ],
   "source": [
    "t_score_two_max = get_score(model_t_two, model_ra_two, model_la_two, model_rl_two, model_ll_two, test_t_x, test_y)\n",
    "ra_score_two_max = get_score(model_t_two, model_ra_two, model_la_two, model_rl_two, model_ll_two, test_ra_x, test_y)\n",
    "la_score_two_max = get_score(model_t_two, model_ra_two, model_la_two, model_rl_two, model_ll_two, test_la_x, test_y)\n",
    "rl_score_two_max = get_score(model_t_two, model_ra_two, model_la_two, model_rl_two, model_ll_two, test_rl_x, test_y)\n",
    "ll_score_two_max = get_score(model_t_two, model_ra_two, model_la_two, model_rl_two, model_ll_two, test_ll_x, test_y)\n",
    "\n",
    "app_two_max_scores = dict(zip(('Torso', 'Right arm', 'Left arm', 'Right leg', 'Left leg'), \n",
    "                     (t_score_two_max, ra_score_two_max, la_score_two_max, rl_score_two_max, ll_score_two_max)))\n",
    "\n",
    "for position, scores in app_two_max_scores.items():\n",
    "    print(\"For \", position, \" accuracy is \", scores)"
   ]
  },
  {
   "cell_type": "markdown",
   "metadata": {},
   "source": [
    "### Averaged Probability Approach"
   ]
  },
  {
   "cell_type": "code",
   "execution_count": 73,
   "metadata": {},
   "outputs": [],
   "source": [
    "def get_score_weighted(model_t, model_ra, model_la, model_rl, model_ll, test_x, test_y):\n",
    "    \n",
    "    from collections import defaultdict\n",
    "    import operator\n",
    "    \n",
    "    predictions_t = model_t.predict(test_x)\n",
    "    predictions_ra = model_ra.predict(test_x)\n",
    "    predictions_la = model_la.predict(test_x)\n",
    "    predictions_rl = model_rl.predict(test_x)\n",
    "    predictions_ll = model_ll.predict(test_x)\n",
    "    \n",
    "    predictions = []\n",
    "    true = []\n",
    "    \n",
    "    for i in range(len(test_y)):\n",
    "        \n",
    "        temp = defaultdict(list)\n",
    "        \n",
    "        argm1 = np.argmax(predictions_t[i])\n",
    "        argm2 = np.argmax(predictions_ra[i])\n",
    "        argm3 = np.argmax(predictions_la[i])\n",
    "        argm4 = np.argmax(predictions_rl[i])\n",
    "        argm5 = np.argmax(predictions_ll[i])\n",
    "        \n",
    "        am1 = np.max(predictions_t[i])\n",
    "        am2 = np.max(predictions_ra[i])\n",
    "        am3 = np.max(predictions_la[i])\n",
    "        am4 = np.max(predictions_rl[i])\n",
    "        am5 = np.max(predictions_ll[i])\n",
    "        \n",
    "        key = [argm1, argm2, argm3, argm4, argm5]\n",
    "        val = [am1, am2, am3, am4, am5]\n",
    "        \n",
    "        for a, b in zip(key, val):\n",
    "            temp[a].append(b)\n",
    "        \n",
    "        temp = dict(temp)\n",
    "        \n",
    "        for activity, probs in temp.items():\n",
    "            probability = np.mean(np.array(probs))\n",
    "            temp[activity] = probability\n",
    "    \n",
    "        activity = max(temp.items(), key=operator.itemgetter(1))[0]\n",
    "        predictions.append(activity)\n",
    "        true.append(np.argmax((test_y[i])))\n",
    "        \n",
    "    predictions = np.asarray(predictions)\n",
    "    true = np.asarray(true)\n",
    "    \n",
    "    correct = np.where((predictions == true))\n",
    "    total_correct = len(correct[0])\n",
    "    \n",
    "    accuracy = total_correct / len(test_y)\n",
    "    return accuracy"
   ]
  },
  {
   "cell_type": "code",
   "execution_count": 74,
   "metadata": {},
   "outputs": [
    {
     "name": "stdout",
     "output_type": "stream",
     "text": [
      "For  Torso  accuracy is  0.624561403508772\n",
      "For  Right arm  accuracy is  0.5201754385964912\n",
      "For  Left arm  accuracy is  0.5157894736842106\n",
      "For  Right leg  accuracy is  0.4052631578947368\n",
      "For  Left leg  accuracy is  0.20087719298245615\n"
     ]
    }
   ],
   "source": [
    "t_score_two_avg = get_score_weighted(model_t_two, model_ra_two, model_la_two, model_rl_two, model_ll_two, test_t_x, test_y)\n",
    "ra_score_two_avg = get_score_weighted(model_t_two, model_ra_two, model_la_two, model_rl_two, model_ll_two, test_ra_x, test_y)\n",
    "la_score_two_avg = get_score_weighted(model_t_two, model_ra_two, model_la_two, model_rl_two, model_ll_two, test_la_x, test_y)\n",
    "rl_score_two_avg = get_score_weighted(model_t_two, model_ra_two, model_la_two, model_rl_two, model_ll_two, test_rl_x, test_y)\n",
    "ll_score_two_avg = get_score_weighted(model_t_two, model_ra_two, model_la_two, model_rl_two, model_ll_two, test_ll_x, test_y)\n",
    "\n",
    "app_two_max_scores = dict(zip(('Torso', 'Right arm', 'Left arm', 'Right leg', 'Left leg'), \n",
    "                     (t_score_two_avg, ra_score_two_avg, la_score_two_avg, rl_score_two_avg, ll_score_two_avg)))\n",
    "\n",
    "for position, scores in app_two_max_scores.items():\n",
    "    print(\"For \", position, \" accuracy is \", scores)"
   ]
  },
  {
   "cell_type": "markdown",
   "metadata": {},
   "source": [
    "# Approach 1 using other Supervised learning Algorithms"
   ]
  },
  {
   "cell_type": "code",
   "execution_count": 22,
   "metadata": {
    "collapsed": true
   },
   "outputs": [],
   "source": [
    "from sklearn.linear_model import LogisticRegression, Perceptron\n",
    "from sklearn.svm import SVC\n",
    "from sklearn.neighbors import KNeighborsClassifier\n",
    "from sklearn.naive_bayes import GaussianNB\n",
    "from sklearn.tree import DecisionTreeClassifier\n",
    "from sklearn.ensemble import RandomForestClassifier\n",
    "from sklearn.metrics import precision_score, recall_score, f1_score, roc_auc_score, accuracy_score, classification_report\n",
    "from sklearn.model_selection import KFold, StratifiedKFold, cross_val_score\n",
    "import warnings\n",
    "warnings.filterwarnings(\"ignore\")"
   ]
  },
  {
   "cell_type": "markdown",
   "metadata": {},
   "source": [
    "### Preprocess Data"
   ]
  },
  {
   "cell_type": "code",
   "execution_count": 23,
   "metadata": {
    "collapsed": true
   },
   "outputs": [],
   "source": [
    "def preprocess_approach_one_others():\n",
    "    df = pd.read_csv('data/data.csv')\n",
    "    train_df = df.loc[df['person'] != 'p8']\n",
    "    test_df = df.loc[df['person'] == 'p8']\n",
    "\n",
    "    train_x = np.vstack((train_df.iloc[:, 0:81].values, \n",
    "                         train_df.iloc[:, 81:162].values, \n",
    "                         train_df.iloc[:, 162:243].values, \n",
    "                         train_df.iloc[:, 243:324].values, \n",
    "                         train_df.iloc[:, 324:405].values))\n",
    "    \n",
    "    train_y = np.hstack((train_df['activity'].values,\n",
    "                         train_df['activity'].values,\n",
    "                         train_df['activity'].values,\n",
    "                         train_df['activity'].values,\n",
    "                         train_df['activity'].values))\n",
    "    \n",
    "    test_t_x = test_df.iloc[:, 0:81].values\n",
    "    test_ra_x = test_df.iloc[:, 81:162].values\n",
    "    test_la_x = test_df.iloc[:, 162:243].values\n",
    "    test_rl_x = test_df.iloc[:, 243:324].values\n",
    "    test_ll_x = test_df.iloc[:, 324:405].values\n",
    "    \n",
    "    test_y = test_df['activity'].values\n",
    "    \n",
    "    # Normalize\n",
    "    train_x = normalize(train_x, norm='l2')\n",
    "    \n",
    "    test_t_x = normalize(test_t_x, norm='l2')\n",
    "    test_ra_x = normalize(test_ra_x, norm='l2')\n",
    "    test_la_x = normalize(test_la_x, norm='l2')\n",
    "    test_rl_x = normalize(test_rl_x, norm='l2')\n",
    "    test_ll_x = normalize(test_ll_x, norm='l2')\n",
    "    \n",
    "    return (train_x, test_t_x, test_ra_x, test_la_x, test_rl_x, test_ll_x, train_y, test_y)"
   ]
  },
  {
   "cell_type": "code",
   "execution_count": 24,
   "metadata": {
    "collapsed": true
   },
   "outputs": [],
   "source": [
    "(train_x_o, test_t_x_o, test_ra_x_o, test_la_x_o, test_rl_x_o, test_ll_x_o, train_y_o, test_y_o) = preprocess_approach_one_others()"
   ]
  },
  {
   "cell_type": "markdown",
   "metadata": {},
   "source": [
    "### Define all the classifiers"
   ]
  },
  {
   "cell_type": "code",
   "execution_count": 97,
   "metadata": {
    "collapsed": true
   },
   "outputs": [],
   "source": [
    "classifiers = {\n",
    "    \"LogisticRegression\": LogisticRegression(solver='lbfgs', multi_class='multinomial'),\n",
    "    \"KNearest\": KNeighborsClassifier(),\n",
    "    \"Support Vector Classifier\": SVC(),\n",
    "    \"DecisionTreeClassifier\": DecisionTreeClassifier(),\n",
    "    \"Perceptron\": Perceptron(),\n",
    "    \"NaiveBayes\": GaussianNB()\n",
    "}\n",
    "\n",
    "fitted_models = {}"
   ]
  },
  {
   "cell_type": "markdown",
   "metadata": {},
   "source": [
    "### Train and calculate accuracy"
   ]
  },
  {
   "cell_type": "code",
   "execution_count": 98,
   "metadata": {},
   "outputs": [
    {
     "name": "stdout",
     "output_type": "stream",
     "text": [
      "Performance for  LogisticRegression \n",
      " Train score =  0.6849874686716791 \n",
      " Torso Test scores =  0.7315789473684211 \n",
      " RA Test scores =  0.6403508771929824 \n",
      " RL Test scores =  0.7131578947368421 \n",
      " LA Test scores =  0.443859649122807 \n",
      " LL Test scores =  0.22456140350877193 \n",
      "\n",
      "\n",
      "\n",
      "Performance for  KNearest \n",
      " Train score =  0.9608771929824561 \n",
      " Torso Test scores =  0.8166666666666667 \n",
      " RA Test scores =  0.6921052631578948 \n",
      " RL Test scores =  0.7763157894736842 \n",
      " LA Test scores =  0.6789473684210526 \n",
      " LL Test scores =  0.5403508771929825 \n",
      "\n",
      "\n",
      "\n",
      "Performance for  Support Vector Classifier \n",
      " Train score =  0.4889724310776942 \n",
      " Torso Test scores =  0.42543859649122806 \n",
      " RA Test scores =  0.5236842105263158 \n",
      " RL Test scores =  0.7350877192982456 \n",
      " LA Test scores =  0.4964912280701754 \n",
      " LL Test scores =  0.10701754385964912 \n",
      "\n",
      "\n",
      "\n",
      "Performance for  DecisionTreeClassifier \n",
      " Train score =  1.0 \n",
      " Torso Test scores =  0.624561403508772 \n",
      " RA Test scores =  0.7 \n",
      " RL Test scores =  0.5412280701754386 \n",
      " LA Test scores =  0.6070175438596491 \n",
      " LL Test scores =  0.5043859649122807 \n",
      "\n",
      "\n",
      "\n",
      "Performance for  Perceptron \n",
      " Train score =  0.4825062656641604 \n",
      " Torso Test scores =  0.32105263157894737 \n",
      " RA Test scores =  0.4 \n",
      " RL Test scores =  0.4192982456140351 \n",
      " LA Test scores =  0.39210526315789473 \n",
      " LL Test scores =  0.22982456140350876 \n",
      "\n",
      "\n",
      "\n",
      "Performance for  NaiveBayes \n",
      " Train score =  0.6020300751879699 \n",
      " Torso Test scores =  0.6596491228070176 \n",
      " RA Test scores =  0.4570175438596491 \n",
      " RL Test scores =  0.7850877192982456 \n",
      " LA Test scores =  0.4298245614035088 \n",
      " LL Test scores =  0.29035087719298247 \n",
      "\n",
      "\n",
      "\n"
     ]
    }
   ],
   "source": [
    "for key, classifier in classifiers.items():\n",
    "    \n",
    "    fitted_models[key] = classifier.fit(train_x_o, train_y_o)\n",
    "    train_score = classifier.score(train_x_o, train_y_o)\n",
    "    test_t_x_score = classifier.score(test_t_x_o, test_y_o)\n",
    "    test_ra_x_score = classifier.score(test_ra_x_o, test_y_o)\n",
    "    test_la_x_score = classifier.score(test_la_x_o, test_y_o)\n",
    "    test_rl_x_score = classifier.score(test_rl_x_o, test_y_o)\n",
    "    test_ll_x_score = classifier.score(test_ll_x_o, test_y_o)\n",
    "    \n",
    "    print(\"Performance for \", key, \"\\n\", \n",
    "          \"Train score = \", train_score, \"\\n\",\n",
    "          \"Torso Test scores = \", test_t_x_score, \"\\n\",\n",
    "          \"RA Test scores = \", test_ra_x_score, \"\\n\",\n",
    "          \"RL Test scores = \", test_la_x_score, \"\\n\",\n",
    "          \"LA Test scores = \", test_rl_x_score, \"\\n\",\n",
    "          \"LL Test scores = \", test_ll_x_score, \"\\n\",)\n",
    "    \n",
    "    print(\"\\n\")"
   ]
  },
  {
   "cell_type": "markdown",
   "metadata": {},
   "source": [
    "### Save all the models"
   ]
  },
  {
   "cell_type": "code",
   "execution_count": 93,
   "metadata": {
    "collapsed": true
   },
   "outputs": [],
   "source": [
    "def save_models():\n",
    "    import joblib\n",
    "    for key, classifier in fitted_models.items():\n",
    "        filename = key + '.joblib'\n",
    "        joblib.dump(classifier, filename)"
   ]
  },
  {
   "cell_type": "markdown",
   "metadata": {},
   "source": [
    "### Retrieve Models"
   ]
  },
  {
   "cell_type": "code",
   "execution_count": 38,
   "metadata": {
    "collapsed": true
   },
   "outputs": [],
   "source": [
    "def load_models(directory):\n",
    "    import joblib\n",
    "    import glob\n",
    "    loaded_models = {}\n",
    "    path = directory + '*.joblib'\n",
    "    files = glob.glob(path)\n",
    "    for file in files:\n",
    "        clf = joblib.load(file)\n",
    "        key = file.split('/')[-1].split('.')[0]\n",
    "        loaded_models[key] = clf \n",
    "    return loaded_models"
   ]
  },
  {
   "cell_type": "code",
   "execution_count": 43,
   "metadata": {},
   "outputs": [],
   "source": [
    "loaded_models = load_models('models/')"
   ]
  },
  {
   "cell_type": "code",
   "execution_count": 44,
   "metadata": {},
   "outputs": [
    {
     "data": {
      "text/plain": [
       "{'DecisionTreeClassifier': DecisionTreeClassifier(class_weight=None, criterion='gini', max_depth=None,\n",
       "             max_features=None, max_leaf_nodes=None,\n",
       "             min_impurity_decrease=0.0, min_impurity_split=None,\n",
       "             min_samples_leaf=1, min_samples_split=2,\n",
       "             min_weight_fraction_leaf=0.0, presort=False, random_state=None,\n",
       "             splitter='best'),\n",
       " 'KNearest': KNeighborsClassifier(algorithm='auto', leaf_size=30, metric='minkowski',\n",
       "            metric_params=None, n_jobs=1, n_neighbors=5, p=2,\n",
       "            weights='uniform'),\n",
       " 'LogisticRegression': LogisticRegression(C=1.0, class_weight=None, dual=False, fit_intercept=True,\n",
       "           intercept_scaling=1, max_iter=100, multi_class='multinomial',\n",
       "           n_jobs=1, penalty='l2', random_state=None, solver='lbfgs',\n",
       "           tol=0.0001, verbose=0, warm_start=False),\n",
       " 'NaiveBayes': GaussianNB(priors=None),\n",
       " 'Perceptron': Perceptron(alpha=0.0001, class_weight=None, eta0=1.0, fit_intercept=True,\n",
       "       max_iter=None, n_iter=None, n_jobs=1, penalty=None, random_state=0,\n",
       "       shuffle=True, tol=None, verbose=0, warm_start=False),\n",
       " 'Support Vector Classifier': SVC(C=1.0, cache_size=200, class_weight=None, coef0=0.0,\n",
       "   decision_function_shape='ovr', degree=3, gamma='auto', kernel='rbf',\n",
       "   max_iter=-1, probability=False, random_state=None, shrinking=True,\n",
       "   tol=0.001, verbose=False)}"
      ]
     },
     "execution_count": 44,
     "metadata": {},
     "output_type": "execute_result"
    }
   ],
   "source": [
    "loaded_models"
   ]
  }
 ],
 "metadata": {
  "kernelspec": {
   "display_name": "Python 3",
   "language": "python",
   "name": "python3"
  },
  "language_info": {
   "codemirror_mode": {
    "name": "ipython",
    "version": 3
   },
   "file_extension": ".py",
   "mimetype": "text/x-python",
   "name": "python",
   "nbconvert_exporter": "python",
   "pygments_lexer": "ipython3",
   "version": "3.7.3"
  }
 },
 "nbformat": 4,
 "nbformat_minor": 2
}
